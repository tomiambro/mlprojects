{
 "cells": [
  {
   "cell_type": "code",
   "execution_count": 1,
   "metadata": {
    "scrolled": false
   },
   "outputs": [
    {
     "name": "stderr",
     "output_type": "stream",
     "text": [
      "\n",
      "Bad key \"text.kerning_factor\" on line 4 in\n",
      "/home/tom/anaconda3/envs/fastai/lib/python3.6/site-packages/matplotlib/mpl-data/stylelib/_classic_test_patch.mplstyle.\n",
      "You probably need to get an updated matplotlibrc file from\n",
      "http://github.com/matplotlib/matplotlib/blob/master/matplotlibrc.template\n",
      "or from the matplotlib source distribution\n"
     ]
    }
   ],
   "source": [
    "%load_ext autoreload\n",
    "%autoreload 2\n",
    "\n",
    "%matplotlib inline"
   ]
  },
  {
   "cell_type": "code",
   "execution_count": 2,
   "metadata": {
    "scrolled": false
   },
   "outputs": [],
   "source": [
    "import sys\n",
    "sys.path.append(\"/Users/tlee010/Desktop/github_repos/fastai/\") # go to parent dir\n",
    "\n",
    "from fastai.imports import *\n",
    "from fastai.structured import *\n",
    "\n",
    "from pandas_summary import DataFrameSummary\n",
    "from sklearn.ensemble import RandomForestRegressor\n",
    "from IPython.display import display\n",
    "\n",
    "from sklearn import metrics"
   ]
  },
  {
   "cell_type": "code",
   "execution_count": 3,
   "metadata": {
    "scrolled": false
   },
   "outputs": [],
   "source": [
    "set_plot_sizes(12,10,10)"
   ]
  },
  {
   "cell_type": "code",
   "execution_count": 4,
   "metadata": {
    "scrolled": false
   },
   "outputs": [
    {
     "data": {
      "text/html": [
       "<div>\n",
       "<style scoped>\n",
       "    .dataframe tbody tr th:only-of-type {\n",
       "        vertical-align: middle;\n",
       "    }\n",
       "\n",
       "    .dataframe tbody tr th {\n",
       "        vertical-align: top;\n",
       "    }\n",
       "\n",
       "    .dataframe thead th {\n",
       "        text-align: right;\n",
       "    }\n",
       "</style>\n",
       "<table border=\"1\" class=\"dataframe\">\n",
       "  <thead>\n",
       "    <tr style=\"text-align: right;\">\n",
       "      <th></th>\n",
       "      <th>Argentina</th>\n",
       "      <th>Spain</th>\n",
       "    </tr>\n",
       "  </thead>\n",
       "  <tbody>\n",
       "    <tr>\n",
       "      <th>0</th>\n",
       "      <td>{'date': '2020-1-22', 'confirmed': 0, 'deaths'...</td>\n",
       "      <td>{'date': '2020-1-22', 'confirmed': 0, 'deaths'...</td>\n",
       "    </tr>\n",
       "    <tr>\n",
       "      <th>1</th>\n",
       "      <td>{'date': '2020-1-23', 'confirmed': 0, 'deaths'...</td>\n",
       "      <td>{'date': '2020-1-23', 'confirmed': 0, 'deaths'...</td>\n",
       "    </tr>\n",
       "    <tr>\n",
       "      <th>2</th>\n",
       "      <td>{'date': '2020-1-24', 'confirmed': 0, 'deaths'...</td>\n",
       "      <td>{'date': '2020-1-24', 'confirmed': 0, 'deaths'...</td>\n",
       "    </tr>\n",
       "    <tr>\n",
       "      <th>3</th>\n",
       "      <td>{'date': '2020-1-25', 'confirmed': 0, 'deaths'...</td>\n",
       "      <td>{'date': '2020-1-25', 'confirmed': 0, 'deaths'...</td>\n",
       "    </tr>\n",
       "    <tr>\n",
       "      <th>4</th>\n",
       "      <td>{'date': '2020-1-26', 'confirmed': 0, 'deaths'...</td>\n",
       "      <td>{'date': '2020-1-26', 'confirmed': 0, 'deaths'...</td>\n",
       "    </tr>\n",
       "    <tr>\n",
       "      <th>...</th>\n",
       "      <td>...</td>\n",
       "      <td>...</td>\n",
       "    </tr>\n",
       "    <tr>\n",
       "      <th>79</th>\n",
       "      <td>{'date': '2020-4-10', 'confirmed': 1975, 'deat...</td>\n",
       "      <td>{'date': '2020-4-10', 'confirmed': 158273, 'de...</td>\n",
       "    </tr>\n",
       "    <tr>\n",
       "      <th>80</th>\n",
       "      <td>{'date': '2020-4-11', 'confirmed': 1975, 'deat...</td>\n",
       "      <td>{'date': '2020-4-11', 'confirmed': 163027, 'de...</td>\n",
       "    </tr>\n",
       "    <tr>\n",
       "      <th>81</th>\n",
       "      <td>{'date': '2020-4-12', 'confirmed': 2142, 'deat...</td>\n",
       "      <td>{'date': '2020-4-12', 'confirmed': 166831, 'de...</td>\n",
       "    </tr>\n",
       "    <tr>\n",
       "      <th>82</th>\n",
       "      <td>{'date': '2020-4-13', 'confirmed': 2208, 'deat...</td>\n",
       "      <td>{'date': '2020-4-13', 'confirmed': 170099, 'de...</td>\n",
       "    </tr>\n",
       "    <tr>\n",
       "      <th>83</th>\n",
       "      <td>{'date': '2020-4-14', 'confirmed': 2277, 'deat...</td>\n",
       "      <td>{'date': '2020-4-14', 'confirmed': 172541, 'de...</td>\n",
       "    </tr>\n",
       "  </tbody>\n",
       "</table>\n",
       "<p>84 rows × 2 columns</p>\n",
       "</div>"
      ],
      "text/plain": [
       "                                            Argentina  \\\n",
       "0   {'date': '2020-1-22', 'confirmed': 0, 'deaths'...   \n",
       "1   {'date': '2020-1-23', 'confirmed': 0, 'deaths'...   \n",
       "2   {'date': '2020-1-24', 'confirmed': 0, 'deaths'...   \n",
       "3   {'date': '2020-1-25', 'confirmed': 0, 'deaths'...   \n",
       "4   {'date': '2020-1-26', 'confirmed': 0, 'deaths'...   \n",
       "..                                                ...   \n",
       "79  {'date': '2020-4-10', 'confirmed': 1975, 'deat...   \n",
       "80  {'date': '2020-4-11', 'confirmed': 1975, 'deat...   \n",
       "81  {'date': '2020-4-12', 'confirmed': 2142, 'deat...   \n",
       "82  {'date': '2020-4-13', 'confirmed': 2208, 'deat...   \n",
       "83  {'date': '2020-4-14', 'confirmed': 2277, 'deat...   \n",
       "\n",
       "                                                Spain  \n",
       "0   {'date': '2020-1-22', 'confirmed': 0, 'deaths'...  \n",
       "1   {'date': '2020-1-23', 'confirmed': 0, 'deaths'...  \n",
       "2   {'date': '2020-1-24', 'confirmed': 0, 'deaths'...  \n",
       "3   {'date': '2020-1-25', 'confirmed': 0, 'deaths'...  \n",
       "4   {'date': '2020-1-26', 'confirmed': 0, 'deaths'...  \n",
       "..                                                ...  \n",
       "79  {'date': '2020-4-10', 'confirmed': 158273, 'de...  \n",
       "80  {'date': '2020-4-11', 'confirmed': 163027, 'de...  \n",
       "81  {'date': '2020-4-12', 'confirmed': 166831, 'de...  \n",
       "82  {'date': '2020-4-13', 'confirmed': 170099, 'de...  \n",
       "83  {'date': '2020-4-14', 'confirmed': 172541, 'de...  \n",
       "\n",
       "[84 rows x 2 columns]"
      ]
     },
     "execution_count": 4,
     "metadata": {},
     "output_type": "execute_result"
    }
   ],
   "source": [
    "df_raw = pd.read_json('https://pomber.github.io/covid19/timeseries.json', orient='records')\n",
    "df = pd.DataFrame()\n",
    "df_raw.loc[:,(['Argentina', 'Spain'])]"
   ]
  },
  {
   "cell_type": "code",
   "execution_count": 5,
   "metadata": {
    "scrolled": false
   },
   "outputs": [
    {
     "data": {
      "text/html": [
       "<div>\n",
       "<style scoped>\n",
       "    .dataframe tbody tr th:only-of-type {\n",
       "        vertical-align: middle;\n",
       "    }\n",
       "\n",
       "    .dataframe tbody tr th {\n",
       "        vertical-align: top;\n",
       "    }\n",
       "\n",
       "    .dataframe thead th {\n",
       "        text-align: right;\n",
       "    }\n",
       "</style>\n",
       "<table border=\"1\" class=\"dataframe\">\n",
       "  <thead>\n",
       "    <tr style=\"text-align: right;\">\n",
       "      <th></th>\n",
       "      <th>date</th>\n",
       "      <th>deaths</th>\n",
       "      <th>confirmed</th>\n",
       "      <th>recovered</th>\n",
       "      <th>country</th>\n",
       "    </tr>\n",
       "  </thead>\n",
       "  <tbody>\n",
       "    <tr>\n",
       "      <th>0</th>\n",
       "      <td>2020-01-22</td>\n",
       "      <td>0</td>\n",
       "      <td>0</td>\n",
       "      <td>0</td>\n",
       "      <td>España</td>\n",
       "    </tr>\n",
       "    <tr>\n",
       "      <th>1</th>\n",
       "      <td>2020-01-23</td>\n",
       "      <td>0</td>\n",
       "      <td>0</td>\n",
       "      <td>0</td>\n",
       "      <td>España</td>\n",
       "    </tr>\n",
       "    <tr>\n",
       "      <th>2</th>\n",
       "      <td>2020-01-24</td>\n",
       "      <td>0</td>\n",
       "      <td>0</td>\n",
       "      <td>0</td>\n",
       "      <td>España</td>\n",
       "    </tr>\n",
       "    <tr>\n",
       "      <th>3</th>\n",
       "      <td>2020-01-25</td>\n",
       "      <td>0</td>\n",
       "      <td>0</td>\n",
       "      <td>0</td>\n",
       "      <td>España</td>\n",
       "    </tr>\n",
       "    <tr>\n",
       "      <th>4</th>\n",
       "      <td>2020-01-26</td>\n",
       "      <td>0</td>\n",
       "      <td>0</td>\n",
       "      <td>0</td>\n",
       "      <td>España</td>\n",
       "    </tr>\n",
       "    <tr>\n",
       "      <th>...</th>\n",
       "      <td>...</td>\n",
       "      <td>...</td>\n",
       "      <td>...</td>\n",
       "      <td>...</td>\n",
       "      <td>...</td>\n",
       "    </tr>\n",
       "    <tr>\n",
       "      <th>79</th>\n",
       "      <td>2020-04-10</td>\n",
       "      <td>16081</td>\n",
       "      <td>158273</td>\n",
       "      <td>55668</td>\n",
       "      <td>España</td>\n",
       "    </tr>\n",
       "    <tr>\n",
       "      <th>80</th>\n",
       "      <td>2020-04-11</td>\n",
       "      <td>16606</td>\n",
       "      <td>163027</td>\n",
       "      <td>59109</td>\n",
       "      <td>España</td>\n",
       "    </tr>\n",
       "    <tr>\n",
       "      <th>81</th>\n",
       "      <td>2020-04-12</td>\n",
       "      <td>17209</td>\n",
       "      <td>166831</td>\n",
       "      <td>62391</td>\n",
       "      <td>España</td>\n",
       "    </tr>\n",
       "    <tr>\n",
       "      <th>82</th>\n",
       "      <td>2020-04-13</td>\n",
       "      <td>17756</td>\n",
       "      <td>170099</td>\n",
       "      <td>64727</td>\n",
       "      <td>España</td>\n",
       "    </tr>\n",
       "    <tr>\n",
       "      <th>83</th>\n",
       "      <td>2020-04-14</td>\n",
       "      <td>18056</td>\n",
       "      <td>172541</td>\n",
       "      <td>67504</td>\n",
       "      <td>España</td>\n",
       "    </tr>\n",
       "  </tbody>\n",
       "</table>\n",
       "<p>84 rows × 5 columns</p>\n",
       "</div>"
      ],
      "text/plain": [
       "         date  deaths  confirmed  recovered country\n",
       "0  2020-01-22       0          0          0  España\n",
       "1  2020-01-23       0          0          0  España\n",
       "2  2020-01-24       0          0          0  España\n",
       "3  2020-01-25       0          0          0  España\n",
       "4  2020-01-26       0          0          0  España\n",
       "..        ...     ...        ...        ...     ...\n",
       "79 2020-04-10   16081     158273      55668  España\n",
       "80 2020-04-11   16606     163027      59109  España\n",
       "81 2020-04-12   17209     166831      62391  España\n",
       "82 2020-04-13   17756     170099      64727  España\n",
       "83 2020-04-14   18056     172541      67504  España\n",
       "\n",
       "[84 rows x 5 columns]"
      ]
     },
     "execution_count": 5,
     "metadata": {},
     "output_type": "execute_result"
    }
   ],
   "source": [
    "for row in df_raw.loc[:, 'Argentina']:\n",
    "    row['country'] = 'Argentina'\n",
    "\n",
    "for row in df_raw.loc[:, 'Spain']:\n",
    "    row['country'] = 'España'\n",
    "\n",
    "#df = pd.DataFrame([row for row in df_raw.loc[:,'Argentina']   ], columns=columns)\n",
    "\n",
    "Dates = pd.Series([row['date'] for row in df_raw.loc[:, 'Spain']], name='date', dtype='datetime64[ns]')\n",
    "Deaths = pd.Series([row['deaths'] for row in df_raw.loc[:, 'Spain']], name='date', dtype='int32')\n",
    "Confirmed = pd.Series([row['confirmed'] for row in df_raw.loc[:, 'Spain']], name='date', dtype='int32')\n",
    "Recovered = pd.Series([row['recovered'] for row in df_raw.loc[:, 'Spain']], name='date', dtype='int32')\n",
    "\n",
    "frame = {'date': Dates, 'deaths': Deaths, 'confirmed': Confirmed, 'recovered': Recovered}\n",
    "df_spain = pd.DataFrame(frame)\n",
    "df_spain['country'] = 'España'\n",
    "df_spain"
   ]
  },
  {
   "cell_type": "code",
   "execution_count": 6,
   "metadata": {
    "scrolled": false
   },
   "outputs": [
    {
     "data": {
      "text/html": [
       "<div>\n",
       "<style scoped>\n",
       "    .dataframe tbody tr th:only-of-type {\n",
       "        vertical-align: middle;\n",
       "    }\n",
       "\n",
       "    .dataframe tbody tr th {\n",
       "        vertical-align: top;\n",
       "    }\n",
       "\n",
       "    .dataframe thead th {\n",
       "        text-align: right;\n",
       "    }\n",
       "</style>\n",
       "<table border=\"1\" class=\"dataframe\">\n",
       "  <thead>\n",
       "    <tr style=\"text-align: right;\">\n",
       "      <th></th>\n",
       "      <th>date</th>\n",
       "      <th>deaths</th>\n",
       "      <th>confirmed</th>\n",
       "      <th>recovered</th>\n",
       "      <th>country</th>\n",
       "    </tr>\n",
       "  </thead>\n",
       "  <tbody>\n",
       "    <tr>\n",
       "      <th>0</th>\n",
       "      <td>2020-01-22</td>\n",
       "      <td>0</td>\n",
       "      <td>0</td>\n",
       "      <td>0</td>\n",
       "      <td>Argentina</td>\n",
       "    </tr>\n",
       "    <tr>\n",
       "      <th>1</th>\n",
       "      <td>2020-01-23</td>\n",
       "      <td>0</td>\n",
       "      <td>0</td>\n",
       "      <td>0</td>\n",
       "      <td>Argentina</td>\n",
       "    </tr>\n",
       "    <tr>\n",
       "      <th>2</th>\n",
       "      <td>2020-01-24</td>\n",
       "      <td>0</td>\n",
       "      <td>0</td>\n",
       "      <td>0</td>\n",
       "      <td>Argentina</td>\n",
       "    </tr>\n",
       "    <tr>\n",
       "      <th>3</th>\n",
       "      <td>2020-01-25</td>\n",
       "      <td>0</td>\n",
       "      <td>0</td>\n",
       "      <td>0</td>\n",
       "      <td>Argentina</td>\n",
       "    </tr>\n",
       "    <tr>\n",
       "      <th>4</th>\n",
       "      <td>2020-01-26</td>\n",
       "      <td>0</td>\n",
       "      <td>0</td>\n",
       "      <td>0</td>\n",
       "      <td>Argentina</td>\n",
       "    </tr>\n",
       "    <tr>\n",
       "      <th>...</th>\n",
       "      <td>...</td>\n",
       "      <td>...</td>\n",
       "      <td>...</td>\n",
       "      <td>...</td>\n",
       "      <td>...</td>\n",
       "    </tr>\n",
       "    <tr>\n",
       "      <th>79</th>\n",
       "      <td>2020-04-10</td>\n",
       "      <td>82</td>\n",
       "      <td>1975</td>\n",
       "      <td>375</td>\n",
       "      <td>Argentina</td>\n",
       "    </tr>\n",
       "    <tr>\n",
       "      <th>80</th>\n",
       "      <td>2020-04-11</td>\n",
       "      <td>83</td>\n",
       "      <td>1975</td>\n",
       "      <td>440</td>\n",
       "      <td>Argentina</td>\n",
       "    </tr>\n",
       "    <tr>\n",
       "      <th>81</th>\n",
       "      <td>2020-04-12</td>\n",
       "      <td>90</td>\n",
       "      <td>2142</td>\n",
       "      <td>468</td>\n",
       "      <td>Argentina</td>\n",
       "    </tr>\n",
       "    <tr>\n",
       "      <th>82</th>\n",
       "      <td>2020-04-13</td>\n",
       "      <td>97</td>\n",
       "      <td>2208</td>\n",
       "      <td>515</td>\n",
       "      <td>Argentina</td>\n",
       "    </tr>\n",
       "    <tr>\n",
       "      <th>83</th>\n",
       "      <td>2020-04-14</td>\n",
       "      <td>102</td>\n",
       "      <td>2277</td>\n",
       "      <td>559</td>\n",
       "      <td>Argentina</td>\n",
       "    </tr>\n",
       "  </tbody>\n",
       "</table>\n",
       "<p>84 rows × 5 columns</p>\n",
       "</div>"
      ],
      "text/plain": [
       "         date  deaths  confirmed  recovered    country\n",
       "0  2020-01-22       0          0          0  Argentina\n",
       "1  2020-01-23       0          0          0  Argentina\n",
       "2  2020-01-24       0          0          0  Argentina\n",
       "3  2020-01-25       0          0          0  Argentina\n",
       "4  2020-01-26       0          0          0  Argentina\n",
       "..        ...     ...        ...        ...        ...\n",
       "79 2020-04-10      82       1975        375  Argentina\n",
       "80 2020-04-11      83       1975        440  Argentina\n",
       "81 2020-04-12      90       2142        468  Argentina\n",
       "82 2020-04-13      97       2208        515  Argentina\n",
       "83 2020-04-14     102       2277        559  Argentina\n",
       "\n",
       "[84 rows x 5 columns]"
      ]
     },
     "execution_count": 6,
     "metadata": {},
     "output_type": "execute_result"
    }
   ],
   "source": [
    "Dates = pd.Series([row['date'] for row in df_raw.loc[:, 'Argentina']], name='date', dtype='datetime64[ns]')\n",
    "Deaths = pd.Series([row['deaths'] for row in df_raw.loc[:, 'Argentina']], name='date', dtype='int32')\n",
    "Confirmed = pd.Series([row['confirmed'] for row in df_raw.loc[:, 'Argentina']], name='date', dtype='int32')\n",
    "Recovered = pd.Series([row['recovered'] for row in df_raw.loc[:, 'Argentina']], name='date', dtype='int32')\n",
    "\n",
    "frame = {'date': Dates, 'deaths': Deaths, 'confirmed': Confirmed, 'recovered': Recovered}\n",
    "df_arg = pd.DataFrame(frame)\n",
    "df_arg['country'] = 'Argentina'\n",
    "df_arg"
   ]
  },
  {
   "cell_type": "code",
   "execution_count": 7,
   "metadata": {
    "scrolled": false
   },
   "outputs": [],
   "source": [
    "df = df_arg.append(df_spain)\n",
    "\n",
    "df.reset_index(inplace=True)"
   ]
  },
  {
   "cell_type": "code",
   "execution_count": 8,
   "metadata": {
    "scrolled": false
   },
   "outputs": [],
   "source": [
    "os.makedirs('tmp', exist_ok=True)\n",
    "df.to_feather('tmp/data_covid19-raw')"
   ]
  },
  {
   "cell_type": "code",
   "execution_count": 9,
   "metadata": {
    "scrolled": false
   },
   "outputs": [
    {
     "data": {
      "text/html": [
       "<div>\n",
       "<style scoped>\n",
       "    .dataframe tbody tr th:only-of-type {\n",
       "        vertical-align: middle;\n",
       "    }\n",
       "\n",
       "    .dataframe tbody tr th {\n",
       "        vertical-align: top;\n",
       "    }\n",
       "\n",
       "    .dataframe thead th {\n",
       "        text-align: right;\n",
       "    }\n",
       "</style>\n",
       "<table border=\"1\" class=\"dataframe\">\n",
       "  <thead>\n",
       "    <tr style=\"text-align: right;\">\n",
       "      <th></th>\n",
       "      <th>index</th>\n",
       "      <th>date</th>\n",
       "      <th>deaths</th>\n",
       "      <th>confirmed</th>\n",
       "      <th>recovered</th>\n",
       "      <th>country</th>\n",
       "    </tr>\n",
       "  </thead>\n",
       "  <tbody>\n",
       "    <tr>\n",
       "      <th>0</th>\n",
       "      <td>0</td>\n",
       "      <td>2020-01-22</td>\n",
       "      <td>0</td>\n",
       "      <td>0</td>\n",
       "      <td>0</td>\n",
       "      <td>Argentina</td>\n",
       "    </tr>\n",
       "    <tr>\n",
       "      <th>1</th>\n",
       "      <td>1</td>\n",
       "      <td>2020-01-23</td>\n",
       "      <td>0</td>\n",
       "      <td>0</td>\n",
       "      <td>0</td>\n",
       "      <td>Argentina</td>\n",
       "    </tr>\n",
       "    <tr>\n",
       "      <th>2</th>\n",
       "      <td>2</td>\n",
       "      <td>2020-01-24</td>\n",
       "      <td>0</td>\n",
       "      <td>0</td>\n",
       "      <td>0</td>\n",
       "      <td>Argentina</td>\n",
       "    </tr>\n",
       "    <tr>\n",
       "      <th>3</th>\n",
       "      <td>3</td>\n",
       "      <td>2020-01-25</td>\n",
       "      <td>0</td>\n",
       "      <td>0</td>\n",
       "      <td>0</td>\n",
       "      <td>Argentina</td>\n",
       "    </tr>\n",
       "    <tr>\n",
       "      <th>4</th>\n",
       "      <td>4</td>\n",
       "      <td>2020-01-26</td>\n",
       "      <td>0</td>\n",
       "      <td>0</td>\n",
       "      <td>0</td>\n",
       "      <td>Argentina</td>\n",
       "    </tr>\n",
       "    <tr>\n",
       "      <th>...</th>\n",
       "      <td>...</td>\n",
       "      <td>...</td>\n",
       "      <td>...</td>\n",
       "      <td>...</td>\n",
       "      <td>...</td>\n",
       "      <td>...</td>\n",
       "    </tr>\n",
       "    <tr>\n",
       "      <th>155</th>\n",
       "      <td>75</td>\n",
       "      <td>2020-04-06</td>\n",
       "      <td>13341</td>\n",
       "      <td>136675</td>\n",
       "      <td>40437</td>\n",
       "      <td>España</td>\n",
       "    </tr>\n",
       "    <tr>\n",
       "      <th>156</th>\n",
       "      <td>76</td>\n",
       "      <td>2020-04-07</td>\n",
       "      <td>14045</td>\n",
       "      <td>141942</td>\n",
       "      <td>43208</td>\n",
       "      <td>España</td>\n",
       "    </tr>\n",
       "    <tr>\n",
       "      <th>157</th>\n",
       "      <td>77</td>\n",
       "      <td>2020-04-08</td>\n",
       "      <td>14792</td>\n",
       "      <td>148220</td>\n",
       "      <td>48021</td>\n",
       "      <td>España</td>\n",
       "    </tr>\n",
       "    <tr>\n",
       "      <th>158</th>\n",
       "      <td>78</td>\n",
       "      <td>2020-04-09</td>\n",
       "      <td>15447</td>\n",
       "      <td>153222</td>\n",
       "      <td>52165</td>\n",
       "      <td>España</td>\n",
       "    </tr>\n",
       "    <tr>\n",
       "      <th>159</th>\n",
       "      <td>79</td>\n",
       "      <td>2020-04-10</td>\n",
       "      <td>16081</td>\n",
       "      <td>158273</td>\n",
       "      <td>55668</td>\n",
       "      <td>España</td>\n",
       "    </tr>\n",
       "  </tbody>\n",
       "</table>\n",
       "<p>160 rows × 6 columns</p>\n",
       "</div>"
      ],
      "text/plain": [
       "     index       date  deaths  confirmed  recovered    country\n",
       "0        0 2020-01-22       0          0          0  Argentina\n",
       "1        1 2020-01-23       0          0          0  Argentina\n",
       "2        2 2020-01-24       0          0          0  Argentina\n",
       "3        3 2020-01-25       0          0          0  Argentina\n",
       "4        4 2020-01-26       0          0          0  Argentina\n",
       "..     ...        ...     ...        ...        ...        ...\n",
       "155     75 2020-04-06   13341     136675      40437     España\n",
       "156     76 2020-04-07   14045     141942      43208     España\n",
       "157     77 2020-04-08   14792     148220      48021     España\n",
       "158     78 2020-04-09   15447     153222      52165     España\n",
       "159     79 2020-04-10   16081     158273      55668     España\n",
       "\n",
       "[160 rows x 6 columns]"
      ]
     },
     "execution_count": 9,
     "metadata": {},
     "output_type": "execute_result"
    }
   ],
   "source": [
    "df = pd.read_feather('tmp/data_covid19-raw')\n",
    "df"
   ]
  },
  {
   "cell_type": "code",
   "execution_count": 9,
   "metadata": {
    "scrolled": false
   },
   "outputs": [],
   "source": [
    "df_arg['afectados'] = df_arg['confirmed'] + df_arg['deaths'] + df_arg['recovered']\n",
    "\n",
    "df_arg['infect'] = df_arg['confirmed'] - df_arg['confirmed'].shift()"
   ]
  },
  {
   "cell_type": "code",
   "execution_count": 10,
   "metadata": {
    "scrolled": false
   },
   "outputs": [
    {
     "name": "stdout",
     "output_type": "stream",
     "text": [
      "Analyzin through 37 days\n"
     ]
    },
    {
     "data": {
      "text/plain": [
       "<matplotlib.axes._subplots.AxesSubplot at 0x7fb408936588>"
      ]
     },
     "execution_count": 10,
     "metadata": {},
     "output_type": "execute_result"
    },
    {
     "data": {
      "image/png": "[encoded data removed]",
      "text/plain": [
       "<Figure size 1296x504 with 1 Axes>"
      ]
     },
     "metadata": {
      "needs_background": "light"
     },
     "output_type": "display_data"
    }
   ],
   "source": [
    "size = df_arg[df_arg['confirmed'] > 10].index.max() - df_arg[df_arg['confirmed'] > 10].index.min()\n",
    "print(f'Analyzin through {size} days')\n",
    "\n",
    "y_arg = df_arg[df_arg['confirmed'] > 10][0:size]\n",
    "y_arg.reset_index(inplace=True)\n",
    "\n",
    "y_arg.plot(kind='bar', stacked=True , y=['confirmed', 'deaths'], figsize=(18, 7))"
   ]
  },
  {
   "cell_type": "code",
   "execution_count": 11,
   "metadata": {
    "scrolled": false
   },
   "outputs": [
    {
     "data": {
      "text/plain": [
       "<matplotlib.axes._subplots.AxesSubplot at 0x7fb406431860>"
      ]
     },
     "execution_count": 11,
     "metadata": {},
     "output_type": "execute_result"
    },
    {
     "data": {
      "image/png": "[encoded data removed]",
      "text/plain": [
       "<Figure size 1296x504 with 1 Axes>"
      ]
     },
     "metadata": {
      "needs_background": "light"
     },
     "output_type": "display_data"
    }
   ],
   "source": [
    "df_spain['afectados'] = df_spain['confirmed'] + df_spain['deaths'] + df_spain['recovered']\n",
    "df_spain['infect'] = df_spain['confirmed'] - df_spain['confirmed'].shift()\n",
    "\n",
    "y_spain = df_spain[df_spain['confirmed'] > 10][0:size]\n",
    "y_spain.reset_index(inplace=True)\n",
    "y_spain.plot(kind='bar',stacked=True , y=['confirmed', 'deaths'], figsize=(18, 7))"
   ]
  },
  {
   "cell_type": "code",
   "execution_count": 12,
   "metadata": {
    "scrolled": false
   },
   "outputs": [
    {
     "data": {
      "image/png": "[encoded data removed]",
      "text/plain": [
       "<Figure size 1296x504 with 1 Axes>"
      ]
     },
     "metadata": {
      "needs_background": "light"
     },
     "output_type": "display_data"
    }
   ],
   "source": [
    "fig = plt.figure(figsize=(18, 7))\n",
    "plt.plot(y_arg['confirmed'], label='Argentina', linewidth=4)\n",
    "plt.plot(y_spain['confirmed'], label='España', linewidth=4)\n",
    "fig.legend(loc=\"upper left\")\n",
    "plt.grid()\n",
    "plt.show()"
   ]
  },
  {
   "cell_type": "code",
   "execution_count": 13,
   "metadata": {
    "scrolled": false
   },
   "outputs": [
    {
     "data": {
      "image/png": "[encoded data removed]",
      "text/plain": [
       "<Figure size 1296x504 with 1 Axes>"
      ]
     },
     "metadata": {
      "needs_background": "light"
     },
     "output_type": "display_data"
    }
   ],
   "source": [
    "fig = plt.figure(figsize=(18, 7))\n",
    "p1 = plt.plot(y_arg['confirmed'], label='Argentina', linewidth=4)\n",
    "p2 = plt.plot(y_spain['confirmed'], label='España', linewidth=4)\n",
    "plt.yscale(\"log\")\n",
    "fig.legend(loc=\"upper left\")\n",
    "plt.grid()\n",
    "plt.show()"
   ]
  }
 ],
 "metadata": {
  "kernelspec": {
   "display_name": "Python 3",
   "language": "python",
   "name": "python3"
  },
  "language_info": {
   "codemirror_mode": {
    "name": "ipython",
    "version": 3
   },
   "file_extension": ".py",
   "mimetype": "text/x-python",
   "name": "python",
   "nbconvert_exporter": "python",
   "pygments_lexer": "ipython3",
   "version": "3.6.10"
  }
 },
 "nbformat": 4,
 "nbformat_minor": 4
}
