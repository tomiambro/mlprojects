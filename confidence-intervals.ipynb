{
 "cells": [
  {
   "cell_type": "markdown",
   "execution_count": null,
   "metadata": {
    "papermill": {
     "duration": 0.012255,
     "end_time": "2020-08-11T16:55:39.017910",
     "exception": false,
     "start_time": "2020-08-11T16:55:39.005655",
     "status": "completed"
    },
    "tags": []
   },
   "source": [
    "# Studying Confidence Intervals in Binary Classification\n",
    "\n",
    "The following study was done using Wisconsin Breast Cancer Data"
   ]
  },
  {
   "cell_type": "code",
   "execution_count": 1,
   "metadata": {
    "_cell_guid": "b1076dfc-b9ad-4769-8c92-a6c4dae69d19",
    "_uuid": "8f2839f25d086af736a60e9eeb907d3b93b6e0e5",
    "execution": {
     "iopub.execute_input": "2020-08-11T16:55:39.051603Z",
     "iopub.status.busy": "2020-08-11T16:55:39.050820Z",
     "iopub.status.idle": "2020-08-11T16:55:43.965350Z",
     "shell.execute_reply": "2020-08-11T16:55:43.964499Z"
    },
    "papermill": {
     "duration": 4.936261,
     "end_time": "2020-08-11T16:55:43.965485",
     "exception": false,
     "start_time": "2020-08-11T16:55:39.029224",
     "status": "completed"
    },
    "tags": []
   },
   "outputs": [
    {
     "name": "stdout",
     "output_type": "stream",
     "text": [
      "/kaggle/input/breast-cancer-wisconsin-data/data.csv\n"
     ]
    }
   ],
   "source": [
    "import numpy as np # linear algebra\n",
    "import pandas as pd # data processing, CSV file I/O (e.g. pd.read_csv)\n",
    "import plotly.express as px\n",
    "from sklearn.model_selection import train_test_split\n",
    "from sklearn.ensemble import RandomForestClassifier\n",
    "from fastai.tabular import *\n",
    "\n",
    "import os\n",
    "for dirname, _, filenames in os.walk('/kaggle/input'):\n",
    "    for filename in filenames:\n",
    "        print(os.path.join(dirname, filename))"
   ]
  },
  {
   "cell_type": "markdown",
   "execution_count": null,
   "metadata": {
    "papermill": {
     "duration": 0.010299,
     "end_time": "2020-08-11T16:55:43.986065",
     "exception": false,
     "start_time": "2020-08-11T16:55:43.975766",
     "status": "completed"
    },
    "tags": []
   },
   "source": [
    "Let's read the data.\n",
    "\n",
    "I'm not sure what 'Unnamed: 32' means and it appears to be all NaNs so for the purpuse of this study I removed it all together since I'm not really interesting in building the most accurate model."
   ]
  },
  {
   "cell_type": "code",
   "execution_count": 2,
   "metadata": {
    "_cell_guid": "79c7e3d0-c299-4dcb-8224-4455121ee9b0",
    "_uuid": "d629ff2d2480ee46fbb7e2d37f6b5fab8052498a",
    "execution": {
     "iopub.execute_input": "2020-08-11T16:55:44.014531Z",
     "iopub.status.busy": "2020-08-11T16:55:44.013416Z",
     "iopub.status.idle": "2020-08-11T16:55:44.083062Z",
     "shell.execute_reply": "2020-08-11T16:55:44.083819Z"
    },
    "papermill": {
     "duration": 0.087868,
     "end_time": "2020-08-11T16:55:44.084006",
     "exception": false,
     "start_time": "2020-08-11T16:55:43.996138",
     "status": "completed"
    },
    "tags": []
   },
   "outputs": [
    {
     "data": {
      "text/html": [
       "<div>\n",
       "<style scoped>\n",
       "    .dataframe tbody tr th:only-of-type {\n",
       "        vertical-align: middle;\n",
       "    }\n",
       "\n",
       "    .dataframe tbody tr th {\n",
       "        vertical-align: top;\n",
       "    }\n",
       "\n",
       "    .dataframe thead th {\n",
       "        text-align: right;\n",
       "    }\n",
       "</style>\n",
       "<table border=\"1\" class=\"dataframe\">\n",
       "  <thead>\n",
       "    <tr style=\"text-align: right;\">\n",
       "      <th></th>\n",
       "      <th>id</th>\n",
       "      <th>diagnosis</th>\n",
       "      <th>radius_mean</th>\n",
       "      <th>texture_mean</th>\n",
       "      <th>perimeter_mean</th>\n",
       "      <th>area_mean</th>\n",
       "      <th>smoothness_mean</th>\n",
       "      <th>compactness_mean</th>\n",
       "      <th>concavity_mean</th>\n",
       "      <th>concave points_mean</th>\n",
       "      <th>...</th>\n",
       "      <th>radius_worst</th>\n",
       "      <th>texture_worst</th>\n",
       "      <th>perimeter_worst</th>\n",
       "      <th>area_worst</th>\n",
       "      <th>smoothness_worst</th>\n",
       "      <th>compactness_worst</th>\n",
       "      <th>concavity_worst</th>\n",
       "      <th>concave points_worst</th>\n",
       "      <th>symmetry_worst</th>\n",
       "      <th>fractal_dimension_worst</th>\n",
       "    </tr>\n",
       "  </thead>\n",
       "  <tbody>\n",
       "    <tr>\n",
       "      <th>0</th>\n",
       "      <td>842302</td>\n",
       "      <td>M</td>\n",
       "      <td>17.99</td>\n",
       "      <td>10.38</td>\n",
       "      <td>122.80</td>\n",
       "      <td>1001.0</td>\n",
       "      <td>0.11840</td>\n",
       "      <td>0.27760</td>\n",
       "      <td>0.3001</td>\n",
       "      <td>0.14710</td>\n",
       "      <td>...</td>\n",
       "      <td>25.38</td>\n",
       "      <td>17.33</td>\n",
       "      <td>184.60</td>\n",
       "      <td>2019.0</td>\n",
       "      <td>0.1622</td>\n",
       "      <td>0.6656</td>\n",
       "      <td>0.7119</td>\n",
       "      <td>0.2654</td>\n",
       "      <td>0.4601</td>\n",
       "      <td>0.11890</td>\n",
       "    </tr>\n",
       "    <tr>\n",
       "      <th>1</th>\n",
       "      <td>842517</td>\n",
       "      <td>M</td>\n",
       "      <td>20.57</td>\n",
       "      <td>17.77</td>\n",
       "      <td>132.90</td>\n",
       "      <td>1326.0</td>\n",
       "      <td>0.08474</td>\n",
       "      <td>0.07864</td>\n",
       "      <td>0.0869</td>\n",
       "      <td>0.07017</td>\n",
       "      <td>...</td>\n",
       "      <td>24.99</td>\n",
       "      <td>23.41</td>\n",
       "      <td>158.80</td>\n",
       "      <td>1956.0</td>\n",
       "      <td>0.1238</td>\n",
       "      <td>0.1866</td>\n",
       "      <td>0.2416</td>\n",
       "      <td>0.1860</td>\n",
       "      <td>0.2750</td>\n",
       "      <td>0.08902</td>\n",
       "    </tr>\n",
       "    <tr>\n",
       "      <th>2</th>\n",
       "      <td>84300903</td>\n",
       "      <td>M</td>\n",
       "      <td>19.69</td>\n",
       "      <td>21.25</td>\n",
       "      <td>130.00</td>\n",
       "      <td>1203.0</td>\n",
       "      <td>0.10960</td>\n",
       "      <td>0.15990</td>\n",
       "      <td>0.1974</td>\n",
       "      <td>0.12790</td>\n",
       "      <td>...</td>\n",
       "      <td>23.57</td>\n",
       "      <td>25.53</td>\n",
       "      <td>152.50</td>\n",
       "      <td>1709.0</td>\n",
       "      <td>0.1444</td>\n",
       "      <td>0.4245</td>\n",
       "      <td>0.4504</td>\n",
       "      <td>0.2430</td>\n",
       "      <td>0.3613</td>\n",
       "      <td>0.08758</td>\n",
       "    </tr>\n",
       "    <tr>\n",
       "      <th>3</th>\n",
       "      <td>84348301</td>\n",
       "      <td>M</td>\n",
       "      <td>11.42</td>\n",
       "      <td>20.38</td>\n",
       "      <td>77.58</td>\n",
       "      <td>386.1</td>\n",
       "      <td>0.14250</td>\n",
       "      <td>0.28390</td>\n",
       "      <td>0.2414</td>\n",
       "      <td>0.10520</td>\n",
       "      <td>...</td>\n",
       "      <td>14.91</td>\n",
       "      <td>26.50</td>\n",
       "      <td>98.87</td>\n",
       "      <td>567.7</td>\n",
       "      <td>0.2098</td>\n",
       "      <td>0.8663</td>\n",
       "      <td>0.6869</td>\n",
       "      <td>0.2575</td>\n",
       "      <td>0.6638</td>\n",
       "      <td>0.17300</td>\n",
       "    </tr>\n",
       "    <tr>\n",
       "      <th>4</th>\n",
       "      <td>84358402</td>\n",
       "      <td>M</td>\n",
       "      <td>20.29</td>\n",
       "      <td>14.34</td>\n",
       "      <td>135.10</td>\n",
       "      <td>1297.0</td>\n",
       "      <td>0.10030</td>\n",
       "      <td>0.13280</td>\n",
       "      <td>0.1980</td>\n",
       "      <td>0.10430</td>\n",
       "      <td>...</td>\n",
       "      <td>22.54</td>\n",
       "      <td>16.67</td>\n",
       "      <td>152.20</td>\n",
       "      <td>1575.0</td>\n",
       "      <td>0.1374</td>\n",
       "      <td>0.2050</td>\n",
       "      <td>0.4000</td>\n",
       "      <td>0.1625</td>\n",
       "      <td>0.2364</td>\n",
       "      <td>0.07678</td>\n",
       "    </tr>\n",
       "  </tbody>\n",
       "</table>\n",
       "<p>5 rows × 32 columns</p>\n",
       "</div>"
      ],
      "text/plain": [
       "         id diagnosis  radius_mean  texture_mean  perimeter_mean  area_mean  \\\n",
       "0    842302         M        17.99         10.38          122.80     1001.0   \n",
       "1    842517         M        20.57         17.77          132.90     1326.0   \n",
       "2  84300903         M        19.69         21.25          130.00     1203.0   \n",
       "3  84348301         M        11.42         20.38           77.58      386.1   \n",
       "4  84358402         M        20.29         14.34          135.10     1297.0   \n",
       "\n",
       "   smoothness_mean  compactness_mean  concavity_mean  concave points_mean  \\\n",
       "0          0.11840           0.27760          0.3001              0.14710   \n",
       "1          0.08474           0.07864          0.0869              0.07017   \n",
       "2          0.10960           0.15990          0.1974              0.12790   \n",
       "3          0.14250           0.28390          0.2414              0.10520   \n",
       "4          0.10030           0.13280          0.1980              0.10430   \n",
       "\n",
       "   ...  radius_worst  texture_worst  perimeter_worst  area_worst  \\\n",
       "0  ...         25.38          17.33           184.60      2019.0   \n",
       "1  ...         24.99          23.41           158.80      1956.0   \n",
       "2  ...         23.57          25.53           152.50      1709.0   \n",
       "3  ...         14.91          26.50            98.87       567.7   \n",
       "4  ...         22.54          16.67           152.20      1575.0   \n",
       "\n",
       "   smoothness_worst  compactness_worst  concavity_worst  concave points_worst  \\\n",
       "0            0.1622             0.6656           0.7119                0.2654   \n",
       "1            0.1238             0.1866           0.2416                0.1860   \n",
       "2            0.1444             0.4245           0.4504                0.2430   \n",
       "3            0.2098             0.8663           0.6869                0.2575   \n",
       "4            0.1374             0.2050           0.4000                0.1625   \n",
       "\n",
       "   symmetry_worst  fractal_dimension_worst  \n",
       "0          0.4601                  0.11890  \n",
       "1          0.2750                  0.08902  \n",
       "2          0.3613                  0.08758  \n",
       "3          0.6638                  0.17300  \n",
       "4          0.2364                  0.07678  \n",
       "\n",
       "[5 rows x 32 columns]"
      ]
     },
     "execution_count": 2,
     "metadata": {},
     "output_type": "execute_result"
    }
   ],
   "source": [
    "df = pd.read_csv('../input/breast-cancer-wisconsin-data/data.csv')\n",
    "df = df.drop('Unnamed: 32', axis=1)\n",
    "df.head()"
   ]
  },
  {
   "cell_type": "code",
   "execution_count": 3,
   "metadata": {
    "execution": {
     "iopub.execute_input": "2020-08-11T16:55:44.126983Z",
     "iopub.status.busy": "2020-08-11T16:55:44.125859Z",
     "iopub.status.idle": "2020-08-11T16:55:44.130671Z",
     "shell.execute_reply": "2020-08-11T16:55:44.131227Z"
    },
    "papermill": {
     "duration": 0.034878,
     "end_time": "2020-08-11T16:55:44.131446",
     "exception": false,
     "start_time": "2020-08-11T16:55:44.096568",
     "status": "completed"
    },
    "tags": []
   },
   "outputs": [
    {
     "data": {
      "text/html": [
       "<div>\n",
       "<style scoped>\n",
       "    .dataframe tbody tr th:only-of-type {\n",
       "        vertical-align: middle;\n",
       "    }\n",
       "\n",
       "    .dataframe tbody tr th {\n",
       "        vertical-align: top;\n",
       "    }\n",
       "\n",
       "    .dataframe thead th {\n",
       "        text-align: right;\n",
       "    }\n",
       "</style>\n",
       "<table border=\"1\" class=\"dataframe\">\n",
       "  <thead>\n",
       "    <tr style=\"text-align: right;\">\n",
       "      <th></th>\n",
       "      <th>x1</th>\n",
       "      <th>x2</th>\n",
       "      <th>y</th>\n",
       "    </tr>\n",
       "  </thead>\n",
       "  <tbody>\n",
       "    <tr>\n",
       "      <th>0</th>\n",
       "      <td>0.076099</td>\n",
       "      <td>0.037743</td>\n",
       "      <td>True</td>\n",
       "    </tr>\n",
       "    <tr>\n",
       "      <th>1</th>\n",
       "      <td>0.674779</td>\n",
       "      <td>0.397229</td>\n",
       "      <td>True</td>\n",
       "    </tr>\n",
       "    <tr>\n",
       "      <th>2</th>\n",
       "      <td>0.332316</td>\n",
       "      <td>0.624636</td>\n",
       "      <td>True</td>\n",
       "    </tr>\n",
       "    <tr>\n",
       "      <th>3</th>\n",
       "      <td>0.009809</td>\n",
       "      <td>0.728101</td>\n",
       "      <td>False</td>\n",
       "    </tr>\n",
       "    <tr>\n",
       "      <th>4</th>\n",
       "      <td>0.519617</td>\n",
       "      <td>0.443257</td>\n",
       "      <td>False</td>\n",
       "    </tr>\n",
       "  </tbody>\n",
       "</table>\n",
       "</div>"
      ],
      "text/plain": [
       "         x1        x2      y\n",
       "0  0.076099  0.037743   True\n",
       "1  0.674779  0.397229   True\n",
       "2  0.332316  0.624636   True\n",
       "3  0.009809  0.728101  False\n",
       "4  0.519617  0.443257  False"
      ]
     },
     "execution_count": 3,
     "metadata": {},
     "output_type": "execute_result"
    }
   ],
   "source": [
    "x1 = np.random.rand(1, len(df))[0]\n",
    "x2 = np.random.rand(1, len(df))[0]\n",
    "y_aux = np.random.rand(1, len(df))[0]\n",
    "y = y_aux > 0.5\n",
    "rand_df = pd.DataFrame({'x1': x1, 'x2': x2, 'y': y})\n",
    "rand_df[:5]"
   ]
  },
  {
   "cell_type": "markdown",
   "execution_count": null,
   "metadata": {
    "papermill": {
     "duration": 0.010317,
     "end_time": "2020-08-11T16:55:44.152539",
     "exception": false,
     "start_time": "2020-08-11T16:55:44.142222",
     "status": "completed"
    },
    "tags": []
   },
   "source": [
    "### Split between test and train sets"
   ]
  },
  {
   "cell_type": "code",
   "execution_count": 4,
   "metadata": {
    "execution": {
     "iopub.execute_input": "2020-08-11T16:55:44.190249Z",
     "iopub.status.busy": "2020-08-11T16:55:44.189438Z",
     "iopub.status.idle": "2020-08-11T16:55:44.195972Z",
     "shell.execute_reply": "2020-08-11T16:55:44.195347Z"
    },
    "papermill": {
     "duration": 0.032548,
     "end_time": "2020-08-11T16:55:44.196125",
     "exception": false,
     "start_time": "2020-08-11T16:55:44.163577",
     "status": "completed"
    },
    "tags": []
   },
   "outputs": [],
   "source": [
    "y = df['diagnosis']\n",
    "X = df.drop('diagnosis', axis=1)\n",
    "X_train, X_valid, y_train, y_valid = train_test_split(X, y, test_size=0.2, random_state=42)\n",
    "\n",
    "df_train = X_train.copy()\n",
    "df_valid = X_valid.copy()\n",
    "df_train.insert(loc=len(X_train.columns), column='diagnosis', value=y_train)\n",
    "df_valid.insert(loc=len(X_valid.columns), column='diagnosis', value=y_valid)"
   ]
  },
  {
   "cell_type": "code",
   "execution_count": 5,
   "metadata": {
    "execution": {
     "iopub.execute_input": "2020-08-11T16:55:44.228929Z",
     "iopub.status.busy": "2020-08-11T16:55:44.227846Z",
     "iopub.status.idle": "2020-08-11T16:55:44.231487Z",
     "shell.execute_reply": "2020-08-11T16:55:44.230712Z"
    },
    "papermill": {
     "duration": 0.024629,
     "end_time": "2020-08-11T16:55:44.231628",
     "exception": false,
     "start_time": "2020-08-11T16:55:44.206999",
     "status": "completed"
    },
    "tags": []
   },
   "outputs": [],
   "source": [
    "rand_y = rand_df['y']\n",
    "rand_X = rand_df.drop('y', axis=1)\n",
    "rand_X_train, rand_X_valid, rand_y_train, rand_y_valid = train_test_split(rand_X, rand_y, test_size=0.2, random_state=42)"
   ]
  },
  {
   "cell_type": "markdown",
   "execution_count": null,
   "metadata": {
    "papermill": {
     "duration": 0.010482,
     "end_time": "2020-08-11T16:55:44.253117",
     "exception": false,
     "start_time": "2020-08-11T16:55:44.242635",
     "status": "completed"
    },
    "tags": []
   },
   "source": [
    "Let's take advantage of fastai's Categorify to turn our only categorical variable into one: 'diagnosis'"
   ]
  },
  {
   "cell_type": "code",
   "execution_count": 6,
   "metadata": {
    "execution": {
     "iopub.execute_input": "2020-08-11T16:55:44.290209Z",
     "iopub.status.busy": "2020-08-11T16:55:44.289124Z",
     "iopub.status.idle": "2020-08-11T16:55:44.293642Z",
     "shell.execute_reply": "2020-08-11T16:55:44.292964Z"
    },
    "papermill": {
     "duration": 0.029641,
     "end_time": "2020-08-11T16:55:44.293764",
     "exception": false,
     "start_time": "2020-08-11T16:55:44.264123",
     "status": "completed"
    },
    "tags": []
   },
   "outputs": [
    {
     "data": {
      "text/plain": [
       "Index(['B', 'M'], dtype='object')"
      ]
     },
     "execution_count": 6,
     "metadata": {},
     "output_type": "execute_result"
    }
   ],
   "source": [
    "cont, cat = cont_cat_split(df)\n",
    "tfm = Categorify(cat, cont)\n",
    "tfm(df_train)\n",
    "tfm(df_valid, test=True)\n",
    "df_train['diagnosis'].cat.categories"
   ]
  },
  {
   "cell_type": "markdown",
   "execution_count": null,
   "metadata": {
    "papermill": {
     "duration": 0.010903,
     "end_time": "2020-08-11T16:55:44.315546",
     "exception": false,
     "start_time": "2020-08-11T16:55:44.304643",
     "status": "completed"
    },
    "tags": []
   },
   "source": [
    "'M', the label we want to classify, is coded as 1\n",
    "\n",
    "Let's also fill in the missing using fastai's brilliant FillMissing class"
   ]
  },
  {
   "cell_type": "code",
   "execution_count": 7,
   "metadata": {
    "execution": {
     "iopub.execute_input": "2020-08-11T16:55:44.363196Z",
     "iopub.status.busy": "2020-08-11T16:55:44.362329Z",
     "iopub.status.idle": "2020-08-11T16:55:44.366466Z",
     "shell.execute_reply": "2020-08-11T16:55:44.365723Z"
    },
    "papermill": {
     "duration": 0.039705,
     "end_time": "2020-08-11T16:55:44.366604",
     "exception": false,
     "start_time": "2020-08-11T16:55:44.326899",
     "status": "completed"
    },
    "tags": []
   },
   "outputs": [],
   "source": [
    "tfm = FillMissing(cat, cont)\n",
    "tfm(df_train)\n",
    "tfm(df_valid, test=True)"
   ]
  },
  {
   "cell_type": "code",
   "execution_count": 8,
   "metadata": {
    "execution": {
     "iopub.execute_input": "2020-08-11T16:55:44.401125Z",
     "iopub.status.busy": "2020-08-11T16:55:44.400352Z",
     "iopub.status.idle": "2020-08-11T16:55:44.404066Z",
     "shell.execute_reply": "2020-08-11T16:55:44.403398Z"
    },
    "papermill": {
     "duration": 0.025196,
     "end_time": "2020-08-11T16:55:44.404194",
     "exception": false,
     "start_time": "2020-08-11T16:55:44.378998",
     "status": "completed"
    },
    "tags": []
   },
   "outputs": [],
   "source": [
    "X_train = df_train.drop('diagnosis', axis=1)\n",
    "y_train = df_train.diagnosis\n",
    "\n",
    "X_valid = df_valid.drop('diagnosis', axis=1)\n",
    "y_valid = df_valid.diagnosis"
   ]
  },
  {
   "cell_type": "markdown",
   "execution_count": null,
   "metadata": {
    "papermill": {
     "duration": 0.010863,
     "end_time": "2020-08-11T16:55:44.426506",
     "exception": false,
     "start_time": "2020-08-11T16:55:44.415643",
     "status": "completed"
    },
    "tags": []
   },
   "source": [
    "### We train a simple model with no feature engineering"
   ]
  },
  {
   "cell_type": "code",
   "execution_count": 9,
   "metadata": {
    "execution": {
     "iopub.execute_input": "2020-08-11T16:55:44.460736Z",
     "iopub.status.busy": "2020-08-11T16:55:44.459851Z",
     "iopub.status.idle": "2020-08-11T16:55:45.678254Z",
     "shell.execute_reply": "2020-08-11T16:55:45.677402Z"
    },
    "papermill": {
     "duration": 1.240858,
     "end_time": "2020-08-11T16:55:45.678391",
     "exception": false,
     "start_time": "2020-08-11T16:55:44.437533",
     "status": "completed"
    },
    "tags": []
   },
   "outputs": [
    {
     "data": {
      "text/plain": [
       "(1.0, 0.9649122807017544, 0.9626373626373627)"
      ]
     },
     "execution_count": 9,
     "metadata": {},
     "output_type": "execute_result"
    }
   ],
   "source": [
    "m = RandomForestClassifier(n_estimators=200, min_samples_leaf=1, max_features='sqrt', n_jobs=7, oob_score=True)\n",
    "\n",
    "m.fit(X_train, y_train)\n",
    "\n",
    "m.score(X_train,y_train), m.score(X_valid, y_valid), m.oob_score_"
   ]
  },
  {
   "cell_type": "code",
   "execution_count": 10,
   "metadata": {
    "execution": {
     "iopub.execute_input": "2020-08-11T16:55:45.743786Z",
     "iopub.status.busy": "2020-08-11T16:55:45.717857Z",
     "iopub.status.idle": "2020-08-11T16:55:46.824962Z",
     "shell.execute_reply": "2020-08-11T16:55:46.824166Z"
    },
    "papermill": {
     "duration": 1.133987,
     "end_time": "2020-08-11T16:55:46.825119",
     "exception": false,
     "start_time": "2020-08-11T16:55:45.691132",
     "status": "completed"
    },
    "tags": []
   },
   "outputs": [
    {
     "data": {
      "text/plain": [
       "(1.0, 0.5087719298245614, 0.5538461538461539)"
      ]
     },
     "execution_count": 10,
     "metadata": {},
     "output_type": "execute_result"
    }
   ],
   "source": [
    "rand_m = RandomForestClassifier(n_estimators=200, min_samples_leaf=1, max_features='sqrt', n_jobs=7, oob_score=True)\n",
    "\n",
    "rand_m.fit(rand_X_train, rand_y_train)\n",
    "\n",
    "rand_m.score(rand_X_train,rand_y_train), rand_m.score(rand_X_valid, rand_y_valid), rand_m.oob_score_"
   ]
  },
  {
   "cell_type": "markdown",
   "execution_count": null,
   "metadata": {
    "papermill": {
     "duration": 0.011257,
     "end_time": "2020-08-11T16:55:46.847895",
     "exception": false,
     "start_time": "2020-08-11T16:55:46.836638",
     "status": "completed"
    },
    "tags": []
   },
   "source": [
    "After checking the validation set and the oob score making sure we are not overfitting, let's take a look at a more interesting metric for binary classification: F1 score"
   ]
  },
  {
   "cell_type": "code",
   "execution_count": 11,
   "metadata": {
    "execution": {
     "iopub.execute_input": "2020-08-11T16:55:46.882056Z",
     "iopub.status.busy": "2020-08-11T16:55:46.880997Z",
     "iopub.status.idle": "2020-08-11T16:55:46.991700Z",
     "shell.execute_reply": "2020-08-11T16:55:46.991079Z"
    },
    "papermill": {
     "duration": 0.132475,
     "end_time": "2020-08-11T16:55:46.991832",
     "exception": false,
     "start_time": "2020-08-11T16:55:46.859357",
     "status": "completed"
    },
    "tags": []
   },
   "outputs": [
    {
     "data": {
      "text/plain": [
       "0.9523809523809524"
      ]
     },
     "execution_count": 11,
     "metadata": {},
     "output_type": "execute_result"
    }
   ],
   "source": [
    "from sklearn.metrics import f1_score, recall_score, precision_score\n",
    "\n",
    "preds = m.predict(X_valid)\n",
    "f1_score(y_valid, preds, pos_label='M', average='binary')"
   ]
  },
  {
   "cell_type": "code",
   "execution_count": 12,
   "metadata": {
    "execution": {
     "iopub.execute_input": "2020-08-11T16:55:47.025687Z",
     "iopub.status.busy": "2020-08-11T16:55:47.024494Z",
     "iopub.status.idle": "2020-08-11T16:55:47.136109Z",
     "shell.execute_reply": "2020-08-11T16:55:47.135330Z"
    },
    "papermill": {
     "duration": 0.132279,
     "end_time": "2020-08-11T16:55:47.136249",
     "exception": false,
     "start_time": "2020-08-11T16:55:47.003970",
     "status": "completed"
    },
    "tags": []
   },
   "outputs": [
    {
     "data": {
      "text/plain": [
       "0.5254237288135594"
      ]
     },
     "execution_count": 12,
     "metadata": {},
     "output_type": "execute_result"
    }
   ],
   "source": [
    "rand_preds = rand_m.predict(rand_X_valid)\n",
    "f1_score(rand_y_valid, rand_preds, pos_label=1, average='binary')"
   ]
  },
  {
   "cell_type": "markdown",
   "execution_count": null,
   "metadata": {
    "papermill": {
     "duration": 0.01173,
     "end_time": "2020-08-11T16:55:47.160080",
     "exception": false,
     "start_time": "2020-08-11T16:55:47.148350",
     "status": "completed"
    },
    "tags": []
   },
   "source": [
    "That is sorprisingly good considering no feature engineering was done, however let's see how confident we should be of each prediction\n",
    "\n",
    "For each input we calculate de prediction of each individual tree and we stack them"
   ]
  },
  {
   "cell_type": "code",
   "execution_count": 13,
   "metadata": {
    "execution": {
     "iopub.execute_input": "2020-08-11T16:55:47.198899Z",
     "iopub.status.busy": "2020-08-11T16:55:47.192882Z",
     "iopub.status.idle": "2020-08-11T16:55:47.637305Z",
     "shell.execute_reply": "2020-08-11T16:55:47.637860Z"
    },
    "papermill": {
     "duration": 0.465794,
     "end_time": "2020-08-11T16:55:47.638055",
     "exception": false,
     "start_time": "2020-08-11T16:55:47.172261",
     "status": "completed"
    },
    "tags": []
   },
   "outputs": [
    {
     "data": {
      "text/plain": [
       "(200, 114, 114, 114)"
      ]
     },
     "execution_count": 13,
     "metadata": {},
     "output_type": "execute_result"
    }
   ],
   "source": [
    "preds = np.stack([t.predict(X_valid) for t in m.estimators_])\n",
    "len(preds[:, 0]), len(preds[0]), len(X_valid), len(y_valid)"
   ]
  },
  {
   "cell_type": "code",
   "execution_count": 14,
   "metadata": {
    "execution": {
     "iopub.execute_input": "2020-08-11T16:55:47.685277Z",
     "iopub.status.busy": "2020-08-11T16:55:47.680878Z",
     "iopub.status.idle": "2020-08-11T16:55:48.049186Z",
     "shell.execute_reply": "2020-08-11T16:55:48.048423Z"
    },
    "papermill": {
     "duration": 0.398967,
     "end_time": "2020-08-11T16:55:48.049323",
     "exception": false,
     "start_time": "2020-08-11T16:55:47.650356",
     "status": "completed"
    },
    "tags": []
   },
   "outputs": [
    {
     "data": {
      "text/plain": [
       "(200, 114, 114, 114)"
      ]
     },
     "execution_count": 14,
     "metadata": {},
     "output_type": "execute_result"
    }
   ],
   "source": [
    "rand_preds = np.stack([t.predict(rand_X_valid) for t in rand_m.estimators_])\n",
    "len(rand_preds[:, 0]), len(rand_preds[0]), len(rand_X_valid), len(rand_y_valid)"
   ]
  },
  {
   "cell_type": "markdown",
   "execution_count": null,
   "metadata": {
    "papermill": {
     "duration": 0.012144,
     "end_time": "2020-08-11T16:55:48.073834",
     "exception": false,
     "start_time": "2020-08-11T16:55:48.061690",
     "status": "completed"
    },
    "tags": []
   },
   "source": [
    "## The Bootstrap Method\n",
    "\n",
    "We set a number of iterations and define the sample size so we can resample each array of predictions"
   ]
  },
  {
   "cell_type": "code",
   "execution_count": 15,
   "metadata": {
    "execution": {
     "iopub.execute_input": "2020-08-11T16:55:48.104646Z",
     "iopub.status.busy": "2020-08-11T16:55:48.102428Z",
     "iopub.status.idle": "2020-08-11T16:55:48.108049Z",
     "shell.execute_reply": "2020-08-11T16:55:48.107396Z"
    },
    "papermill": {
     "duration": 0.021866,
     "end_time": "2020-08-11T16:55:48.108183",
     "exception": false,
     "start_time": "2020-08-11T16:55:48.086317",
     "status": "completed"
    },
    "tags": []
   },
   "outputs": [],
   "source": [
    "n_iterations = 300\n",
    "n_size = int(len(preds) * 0.60)"
   ]
  },
  {
   "cell_type": "code",
   "execution_count": 16,
   "metadata": {
    "execution": {
     "iopub.execute_input": "2020-08-11T16:55:48.163563Z",
     "iopub.status.busy": "2020-08-11T16:55:48.162662Z",
     "iopub.status.idle": "2020-08-11T16:55:50.686324Z",
     "shell.execute_reply": "2020-08-11T16:55:50.686931Z"
    },
    "papermill": {
     "duration": 2.56629,
     "end_time": "2020-08-11T16:55:50.687132",
     "exception": false,
     "start_time": "2020-08-11T16:55:48.120842",
     "status": "completed"
    },
    "tags": []
   },
   "outputs": [],
   "source": [
    "from sklearn.utils import resample\n",
    "\n",
    "Lowers = []\n",
    "Uppers = []\n",
    "\n",
    "for i in range(len(preds[0])):\n",
    "    \n",
    "    means = []\n",
    "    \n",
    "    for _ in range(n_iterations):\n",
    "        rs = resample(preds[:, i], n_samples=n_size, replace=True)\n",
    "        means.append(np.mean(rs))\n",
    "    \n",
    "    alpha = 0.99\n",
    "    p = ((1.0 - alpha) / 2.0) * 100\n",
    "    lower = max(0.0, np.percentile(means, p))\n",
    "    Lowers.append(lower)\n",
    "    \n",
    "    p = (alpha + ((1.0 - alpha) / 2.0)) * 100\n",
    "    upper = min(1.0, np.percentile(means, p))\n",
    "    Uppers.append(upper)"
   ]
  },
  {
   "cell_type": "code",
   "execution_count": 17,
   "metadata": {
    "execution": {
     "iopub.execute_input": "2020-08-11T16:55:50.734702Z",
     "iopub.status.busy": "2020-08-11T16:55:50.732121Z",
     "iopub.status.idle": "2020-08-11T16:55:53.331787Z",
     "shell.execute_reply": "2020-08-11T16:55:53.331105Z"
    },
    "papermill": {
     "duration": 2.632245,
     "end_time": "2020-08-11T16:55:53.331915",
     "exception": false,
     "start_time": "2020-08-11T16:55:50.699670",
     "status": "completed"
    },
    "tags": []
   },
   "outputs": [],
   "source": [
    "rand_Lowers = []\n",
    "rand_Uppers = []\n",
    "\n",
    "for i in range(len(rand_preds[0])):\n",
    "    \n",
    "    means = []\n",
    "    \n",
    "    for _ in range(n_iterations):\n",
    "        rs = resample(rand_preds[:, i], n_samples=n_size, replace=True)\n",
    "        means.append(np.mean(rs))\n",
    "    \n",
    "    alpha = 0.99\n",
    "    p = ((1.0 - alpha) / 2.0) * 100\n",
    "    lower = max(0.0, np.percentile(means, p))\n",
    "    rand_Lowers.append(lower)\n",
    "    \n",
    "    p = (alpha + ((1.0 - alpha) / 2.0)) * 100\n",
    "    upper = min(1.0, np.percentile(means, p))\n",
    "    rand_Uppers.append(upper)"
   ]
  },
  {
   "cell_type": "markdown",
   "execution_count": null,
   "metadata": {
    "papermill": {
     "duration": 0.014964,
     "end_time": "2020-08-11T16:55:53.360516",
     "exception": false,
     "start_time": "2020-08-11T16:55:53.345552",
     "status": "completed"
    },
    "tags": []
   },
   "source": [
    "### Now we have the upper and lower percentiles we can create a dataframe with statistical information about our predictions"
   ]
  },
  {
   "cell_type": "code",
   "execution_count": 18,
   "metadata": {
    "execution": {
     "iopub.execute_input": "2020-08-11T16:55:53.400499Z",
     "iopub.status.busy": "2020-08-11T16:55:53.399674Z",
     "iopub.status.idle": "2020-08-11T16:55:53.429440Z",
     "shell.execute_reply": "2020-08-11T16:55:53.430488Z"
    },
    "papermill": {
     "duration": 0.056268,
     "end_time": "2020-08-11T16:55:53.430745",
     "exception": false,
     "start_time": "2020-08-11T16:55:53.374477",
     "status": "completed"
    },
    "tags": []
   },
   "outputs": [
    {
     "data": {
      "text/html": [
       "<div>\n",
       "<style scoped>\n",
       "    .dataframe tbody tr th:only-of-type {\n",
       "        vertical-align: middle;\n",
       "    }\n",
       "\n",
       "    .dataframe tbody tr th {\n",
       "        vertical-align: top;\n",
       "    }\n",
       "\n",
       "    .dataframe thead th {\n",
       "        text-align: right;\n",
       "    }\n",
       "</style>\n",
       "<table border=\"1\" class=\"dataframe\">\n",
       "  <thead>\n",
       "    <tr style=\"text-align: right;\">\n",
       "      <th></th>\n",
       "      <th>actuals</th>\n",
       "      <th>preds</th>\n",
       "      <th>std</th>\n",
       "      <th>var</th>\n",
       "      <th>upper</th>\n",
       "      <th>lower</th>\n",
       "    </tr>\n",
       "  </thead>\n",
       "  <tbody>\n",
       "    <tr>\n",
       "      <th>0</th>\n",
       "      <td>0</td>\n",
       "      <td>0.040</td>\n",
       "      <td>0.195959</td>\n",
       "      <td>0.038400</td>\n",
       "      <td>0.039208</td>\n",
       "      <td>0.031667</td>\n",
       "    </tr>\n",
       "    <tr>\n",
       "      <th>1</th>\n",
       "      <td>1</td>\n",
       "      <td>0.995</td>\n",
       "      <td>0.070534</td>\n",
       "      <td>0.004975</td>\n",
       "      <td>0.005000</td>\n",
       "      <td>0.020000</td>\n",
       "    </tr>\n",
       "    <tr>\n",
       "      <th>2</th>\n",
       "      <td>1</td>\n",
       "      <td>0.990</td>\n",
       "      <td>0.099499</td>\n",
       "      <td>0.009900</td>\n",
       "      <td>0.010000</td>\n",
       "      <td>0.031667</td>\n",
       "    </tr>\n",
       "    <tr>\n",
       "      <th>3</th>\n",
       "      <td>0</td>\n",
       "      <td>0.000</td>\n",
       "      <td>0.000000</td>\n",
       "      <td>0.000000</td>\n",
       "      <td>0.000000</td>\n",
       "      <td>0.000000</td>\n",
       "    </tr>\n",
       "    <tr>\n",
       "      <th>4</th>\n",
       "      <td>0</td>\n",
       "      <td>0.005</td>\n",
       "      <td>0.070534</td>\n",
       "      <td>0.004975</td>\n",
       "      <td>0.028333</td>\n",
       "      <td>0.005000</td>\n",
       "    </tr>\n",
       "    <tr>\n",
       "      <th>5</th>\n",
       "      <td>1</td>\n",
       "      <td>1.000</td>\n",
       "      <td>0.000000</td>\n",
       "      <td>0.000000</td>\n",
       "      <td>0.000000</td>\n",
       "      <td>0.000000</td>\n",
       "    </tr>\n",
       "    <tr>\n",
       "      <th>6</th>\n",
       "      <td>1</td>\n",
       "      <td>1.000</td>\n",
       "      <td>0.000000</td>\n",
       "      <td>0.000000</td>\n",
       "      <td>0.000000</td>\n",
       "      <td>0.000000</td>\n",
       "    </tr>\n",
       "    <tr>\n",
       "      <th>7</th>\n",
       "      <td>1</td>\n",
       "      <td>0.935</td>\n",
       "      <td>0.246526</td>\n",
       "      <td>0.060775</td>\n",
       "      <td>0.044208</td>\n",
       "      <td>0.064208</td>\n",
       "    </tr>\n",
       "    <tr>\n",
       "      <th>8</th>\n",
       "      <td>0</td>\n",
       "      <td>0.695</td>\n",
       "      <td>0.460407</td>\n",
       "      <td>0.211975</td>\n",
       "      <td>0.100875</td>\n",
       "      <td>0.111667</td>\n",
       "    </tr>\n",
       "    <tr>\n",
       "      <th>9</th>\n",
       "      <td>0</td>\n",
       "      <td>0.045</td>\n",
       "      <td>0.207304</td>\n",
       "      <td>0.042975</td>\n",
       "      <td>0.055000</td>\n",
       "      <td>0.036667</td>\n",
       "    </tr>\n",
       "  </tbody>\n",
       "</table>\n",
       "</div>"
      ],
      "text/plain": [
       "   actuals  preds       std       var     upper     lower\n",
       "0        0  0.040  0.195959  0.038400  0.039208  0.031667\n",
       "1        1  0.995  0.070534  0.004975  0.005000  0.020000\n",
       "2        1  0.990  0.099499  0.009900  0.010000  0.031667\n",
       "3        0  0.000  0.000000  0.000000  0.000000  0.000000\n",
       "4        0  0.005  0.070534  0.004975  0.028333  0.005000\n",
       "5        1  1.000  0.000000  0.000000  0.000000  0.000000\n",
       "6        1  1.000  0.000000  0.000000  0.000000  0.000000\n",
       "7        1  0.935  0.246526  0.060775  0.044208  0.064208\n",
       "8        0  0.695  0.460407  0.211975  0.100875  0.111667\n",
       "9        0  0.045  0.207304  0.042975  0.055000  0.036667"
      ]
     },
     "execution_count": 18,
     "metadata": {},
     "output_type": "execute_result"
    }
   ],
   "source": [
    "X = pd.DataFrame({'actuals': y_valid.cat.codes,\n",
    "                  'preds': np.mean(preds, axis=0),\n",
    "                  'std': np.std(preds, axis=0),\n",
    "                  'var': np.var(preds, axis=0),\n",
    "                  'upper': Uppers - np.mean(preds, axis=0),\n",
    "                  'lower': np.mean(preds, axis=0) - Lowers\n",
    "                 })\n",
    "X.reset_index(inplace=True)\n",
    "X = X.drop('index', axis=1)\n",
    "X[:10]"
   ]
  },
  {
   "cell_type": "code",
   "execution_count": 19,
   "metadata": {
    "execution": {
     "iopub.execute_input": "2020-08-11T16:55:53.479272Z",
     "iopub.status.busy": "2020-08-11T16:55:53.478217Z",
     "iopub.status.idle": "2020-08-11T16:55:53.500306Z",
     "shell.execute_reply": "2020-08-11T16:55:53.500888Z"
    },
    "papermill": {
     "duration": 0.049837,
     "end_time": "2020-08-11T16:55:53.501082",
     "exception": false,
     "start_time": "2020-08-11T16:55:53.451245",
     "status": "completed"
    },
    "tags": []
   },
   "outputs": [
    {
     "data": {
      "text/html": [
       "<div>\n",
       "<style scoped>\n",
       "    .dataframe tbody tr th:only-of-type {\n",
       "        vertical-align: middle;\n",
       "    }\n",
       "\n",
       "    .dataframe tbody tr th {\n",
       "        vertical-align: top;\n",
       "    }\n",
       "\n",
       "    .dataframe thead th {\n",
       "        text-align: right;\n",
       "    }\n",
       "</style>\n",
       "<table border=\"1\" class=\"dataframe\">\n",
       "  <thead>\n",
       "    <tr style=\"text-align: right;\">\n",
       "      <th></th>\n",
       "      <th>actuals</th>\n",
       "      <th>preds</th>\n",
       "      <th>std</th>\n",
       "      <th>var</th>\n",
       "      <th>upper</th>\n",
       "      <th>lower</th>\n",
       "    </tr>\n",
       "  </thead>\n",
       "  <tbody>\n",
       "    <tr>\n",
       "      <th>0</th>\n",
       "      <td>0</td>\n",
       "      <td>0.475</td>\n",
       "      <td>0.499375</td>\n",
       "      <td>0.249375</td>\n",
       "      <td>0.100083</td>\n",
       "      <td>0.125083</td>\n",
       "    </tr>\n",
       "    <tr>\n",
       "      <th>1</th>\n",
       "      <td>0</td>\n",
       "      <td>0.790</td>\n",
       "      <td>0.407308</td>\n",
       "      <td>0.165900</td>\n",
       "      <td>0.085000</td>\n",
       "      <td>0.090000</td>\n",
       "    </tr>\n",
       "    <tr>\n",
       "      <th>2</th>\n",
       "      <td>1</td>\n",
       "      <td>0.300</td>\n",
       "      <td>0.458258</td>\n",
       "      <td>0.210000</td>\n",
       "      <td>0.112542</td>\n",
       "      <td>0.095875</td>\n",
       "    </tr>\n",
       "    <tr>\n",
       "      <th>3</th>\n",
       "      <td>0</td>\n",
       "      <td>0.370</td>\n",
       "      <td>0.482804</td>\n",
       "      <td>0.233100</td>\n",
       "      <td>0.117625</td>\n",
       "      <td>0.107542</td>\n",
       "    </tr>\n",
       "    <tr>\n",
       "      <th>4</th>\n",
       "      <td>1</td>\n",
       "      <td>0.730</td>\n",
       "      <td>0.443959</td>\n",
       "      <td>0.197100</td>\n",
       "      <td>0.095000</td>\n",
       "      <td>0.096667</td>\n",
       "    </tr>\n",
       "    <tr>\n",
       "      <th>5</th>\n",
       "      <td>1</td>\n",
       "      <td>0.435</td>\n",
       "      <td>0.495757</td>\n",
       "      <td>0.245775</td>\n",
       "      <td>0.127542</td>\n",
       "      <td>0.105875</td>\n",
       "    </tr>\n",
       "    <tr>\n",
       "      <th>6</th>\n",
       "      <td>1</td>\n",
       "      <td>0.675</td>\n",
       "      <td>0.468375</td>\n",
       "      <td>0.219375</td>\n",
       "      <td>0.091750</td>\n",
       "      <td>0.100000</td>\n",
       "    </tr>\n",
       "    <tr>\n",
       "      <th>7</th>\n",
       "      <td>1</td>\n",
       "      <td>0.550</td>\n",
       "      <td>0.497494</td>\n",
       "      <td>0.247500</td>\n",
       "      <td>0.108333</td>\n",
       "      <td>0.137542</td>\n",
       "    </tr>\n",
       "    <tr>\n",
       "      <th>8</th>\n",
       "      <td>1</td>\n",
       "      <td>0.805</td>\n",
       "      <td>0.396201</td>\n",
       "      <td>0.156975</td>\n",
       "      <td>0.090875</td>\n",
       "      <td>0.100875</td>\n",
       "    </tr>\n",
       "    <tr>\n",
       "      <th>9</th>\n",
       "      <td>0</td>\n",
       "      <td>0.410</td>\n",
       "      <td>0.491833</td>\n",
       "      <td>0.241900</td>\n",
       "      <td>0.098333</td>\n",
       "      <td>0.105875</td>\n",
       "    </tr>\n",
       "  </tbody>\n",
       "</table>\n",
       "</div>"
      ],
      "text/plain": [
       "   actuals  preds       std       var     upper     lower\n",
       "0        0  0.475  0.499375  0.249375  0.100083  0.125083\n",
       "1        0  0.790  0.407308  0.165900  0.085000  0.090000\n",
       "2        1  0.300  0.458258  0.210000  0.112542  0.095875\n",
       "3        0  0.370  0.482804  0.233100  0.117625  0.107542\n",
       "4        1  0.730  0.443959  0.197100  0.095000  0.096667\n",
       "5        1  0.435  0.495757  0.245775  0.127542  0.105875\n",
       "6        1  0.675  0.468375  0.219375  0.091750  0.100000\n",
       "7        1  0.550  0.497494  0.247500  0.108333  0.137542\n",
       "8        1  0.805  0.396201  0.156975  0.090875  0.100875\n",
       "9        0  0.410  0.491833  0.241900  0.098333  0.105875"
      ]
     },
     "execution_count": 19,
     "metadata": {},
     "output_type": "execute_result"
    }
   ],
   "source": [
    "rand_X = pd.DataFrame({'actuals': rand_y_valid.astype(int),\n",
    "                  'preds': np.mean(rand_preds, axis=0),\n",
    "                  'std': np.std(rand_preds, axis=0),\n",
    "                  'var': np.var(rand_preds, axis=0),\n",
    "                  'upper': rand_Uppers - np.mean(rand_preds, axis=0),\n",
    "                  'lower': np.mean(rand_preds, axis=0) - rand_Lowers\n",
    "                 })\n",
    "rand_X.reset_index(inplace=True)\n",
    "rand_X = rand_X.drop('index', axis=1)\n",
    "rand_X[:10]"
   ]
  },
  {
   "cell_type": "markdown",
   "execution_count": null,
   "metadata": {
    "papermill": {
     "duration": 0.013234,
     "end_time": "2020-08-11T16:55:53.527958",
     "exception": false,
     "start_time": "2020-08-11T16:55:53.514724",
     "status": "completed"
    },
    "tags": []
   },
   "source": [
    "Let's plot individual predictions using the average of the N trees and the percentiles as error bars"
   ]
  },
  {
   "cell_type": "code",
   "execution_count": 20,
   "metadata": {
    "execution": {
     "iopub.execute_input": "2020-08-11T16:55:53.566488Z",
     "iopub.status.busy": "2020-08-11T16:55:53.565695Z",
     "iopub.status.idle": "2020-08-11T16:55:53.715560Z",
     "shell.execute_reply": "2020-08-11T16:55:53.714869Z"
    },
    "papermill": {
     "duration": 0.173533,
     "end_time": "2020-08-11T16:55:53.715690",
     "exception": false,
     "start_time": "2020-08-11T16:55:53.542157",
     "status": "completed"
    },
    "tags": []
   },
   "outputs": [
    {
     "data": {
      "text/html": [
       "        <script type=\"text/javascript\">\n",
       "        window.PlotlyConfig = {MathJaxConfig: 'local'};\n",
       "        if (window.MathJax) {MathJax.Hub.Config({SVG: {font: \"STIX-Web\"}});}\n",
       "        if (typeof require !== 'undefined') {\n",
       "        require.undef(\"plotly\");\n",
       "        requirejs.config({\n",
       "            paths: {\n",
       "                'plotly': ['https://cdn.plot.ly/plotly-latest.min']\n",
       "            }\n",
       "        });\n",
       "        require(['plotly'], function(Plotly) {\n",
       "            window._Plotly = Plotly;\n",
       "        });\n",
       "        }\n",
       "        </script>\n",
       "        "
      ]
     },
     "metadata": {},
     "output_type": "display_data"
    },
    {
     "data": {
      "text/html": [
       "<div>\n",
       "        \n",
       "        \n",
       "            <div id=\"c2a135a6-08ac-401f-89ae-8cee26e31a74\" class=\"plotly-graph-div\" style=\"height:525px; width:100%;\"></div>\n",
       "            <script type=\"text/javascript\">\n",
       "                require([\"plotly\"], function(Plotly) {\n",
       "                    window.PLOTLYENV=window.PLOTLYENV || {};\n",
       "                    \n",
       "                if (document.getElementById(\"c2a135a6-08ac-401f-89ae-8cee26e31a74\")) {\n",
       "                    Plotly.newPlot(\n",
       "                        'c2a135a6-08ac-401f-89ae-8cee26e31a74',\n",
       "                        [{\"error_y\": {\"array\": [0.039208333333333296, 0.0050000000000000044, 0.010000000000000009, 0.0, 0.028333333333333332, 0.0, 0.0, 0.04420833333333318, 0.10087499999999994, 0.05500000000000001, 0.05008333333333326, 0.015000000000000013, 0.06333333333333332, 0.08254166666666662, 0.05008333333333325, 0.015000000000000013, 0.07254166666666662, 0.0, 0.0, 0.0, 0.09420833333333331, 0.0, 0.0, 0.028333333333333332, 0.035874999999999956, 0.05587499999999995, 0.0392083333333333, 0.06420833333333331, 0.0, 0.0, 0.024208333333333297, 0.0, 0.07999999999999999, 0.0542083333333333, 0.0, 0.0, 0.10420833333333335, 0.03833333333333333, 0.0, 0.06666666666666667, 0.02, 0.010000000000000009, 0.0, 0.02, 0.10166666666666666, 0.05666666666666667, 0.04666666666666666, 0.041666666666666664, 0.06166666666666667, 0.030874999999999958], \"arrayminus\": [0.03166666666666667, 0.020000000000000018, 0.03166666666666662, 0.0, 0.005, 0.0, 0.0, 0.06420833333333342, 0.11166666666666658, 0.03666666666666667, 0.04166666666666667, 0.03500000000000003, 0.049208333333333326, 0.1050000000000001, 0.025, 0.03500000000000003, 0.04833333333333334, 0.0, 0.0, 0.0, 0.09341666666666663, 0.0, 0.0, 0.005, 0.01, 0.04833333333333334, 0.015, 0.04833333333333334, 0.0, 0.0, 0.005, 0.0, 0.07, 0.04587499999999999, 0.0, 0.0, 0.11254166666666665, 0.02, 0.0, 0.049999999999999996, 0.005, 0.03166666666666662, 0.0, 0.005, 0.09, 0.04754166666666665, 0.045000000000000005, 0.025, 0.04254166666666666, 0.015], \"symmetric\": false, \"type\": \"data\"}, \"name\": \"Control\", \"type\": \"bar\", \"y\": [0.04, 0.995, 0.99, 0.0, 0.005, 1.0, 1.0, 0.935, 0.695, 0.045, 0.05, 0.985, 0.07, 0.805, 0.025, 0.985, 0.065, 0.0, 0.0, 1.0, 0.21, 0.0, 1.0, 0.005, 0.01, 0.065, 0.015, 0.065, 0.0, 1.0, 0.005, 0.0, 0.17, 0.05, 0.0, 0.0, 0.725, 0.02, 1.0, 0.075, 0.005, 0.99, 0.0, 0.005, 0.215, 0.06, 0.07, 0.025, 0.055, 0.015]}],\n",
       "                        {\"shapes\": [{\"type\": \"line\", \"x0\": -1, \"x1\": 50, \"xref\": \"x\", \"y0\": 0.5, \"y1\": 0.5, \"yref\": \"y\"}], \"template\": {\"data\": {\"bar\": [{\"error_x\": {\"color\": \"#2a3f5f\"}, \"error_y\": {\"color\": \"#2a3f5f\"}, \"marker\": {\"line\": {\"color\": \"#E5ECF6\", \"width\": 0.5}}, \"type\": \"bar\"}], \"barpolar\": [{\"marker\": {\"line\": {\"color\": \"#E5ECF6\", \"width\": 0.5}}, \"type\": \"barpolar\"}], \"carpet\": [{\"aaxis\": {\"endlinecolor\": \"#2a3f5f\", \"gridcolor\": \"white\", \"linecolor\": \"white\", \"minorgridcolor\": \"white\", \"startlinecolor\": \"#2a3f5f\"}, \"baxis\": {\"endlinecolor\": \"#2a3f5f\", \"gridcolor\": \"white\", \"linecolor\": \"white\", \"minorgridcolor\": \"white\", \"startlinecolor\": \"#2a3f5f\"}, \"type\": \"carpet\"}], \"choropleth\": [{\"colorbar\": {\"outlinewidth\": 0, \"ticks\": \"\"}, \"type\": \"choropleth\"}], \"contour\": [{\"colorbar\": {\"outlinewidth\": 0, \"ticks\": \"\"}, \"colorscale\": [[0.0, \"#0d0887\"], [0.1111111111111111, \"#46039f\"], [0.2222222222222222, \"#7201a8\"], [0.3333333333333333, \"#9c179e\"], [0.4444444444444444, \"#bd3786\"], [0.5555555555555556, \"#d8576b\"], [0.6666666666666666, \"#ed7953\"], [0.7777777777777778, \"#fb9f3a\"], [0.8888888888888888, \"#fdca26\"], [1.0, \"#f0f921\"]], \"type\": \"contour\"}], \"contourcarpet\": [{\"colorbar\": {\"outlinewidth\": 0, \"ticks\": \"\"}, \"type\": \"contourcarpet\"}], \"heatmap\": [{\"colorbar\": {\"outlinewidth\": 0, \"ticks\": \"\"}, \"colorscale\": [[0.0, \"#0d0887\"], [0.1111111111111111, \"#46039f\"], [0.2222222222222222, \"#7201a8\"], [0.3333333333333333, \"#9c179e\"], [0.4444444444444444, \"#bd3786\"], [0.5555555555555556, \"#d8576b\"], [0.6666666666666666, \"#ed7953\"], [0.7777777777777778, \"#fb9f3a\"], [0.8888888888888888, \"#fdca26\"], [1.0, \"#f0f921\"]], \"type\": \"heatmap\"}], \"heatmapgl\": [{\"colorbar\": {\"outlinewidth\": 0, \"ticks\": \"\"}, \"colorscale\": [[0.0, \"#0d0887\"], [0.1111111111111111, \"#46039f\"], [0.2222222222222222, \"#7201a8\"], [0.3333333333333333, \"#9c179e\"], [0.4444444444444444, \"#bd3786\"], [0.5555555555555556, \"#d8576b\"], [0.6666666666666666, \"#ed7953\"], [0.7777777777777778, \"#fb9f3a\"], [0.8888888888888888, \"#fdca26\"], [1.0, \"#f0f921\"]], \"type\": \"heatmapgl\"}], \"histogram\": [{\"marker\": {\"colorbar\": {\"outlinewidth\": 0, \"ticks\": \"\"}}, \"type\": \"histogram\"}], \"histogram2d\": [{\"colorbar\": {\"outlinewidth\": 0, \"ticks\": \"\"}, \"colorscale\": [[0.0, \"#0d0887\"], [0.1111111111111111, \"#46039f\"], [0.2222222222222222, \"#7201a8\"], [0.3333333333333333, \"#9c179e\"], [0.4444444444444444, \"#bd3786\"], [0.5555555555555556, \"#d8576b\"], [0.6666666666666666, \"#ed7953\"], [0.7777777777777778, \"#fb9f3a\"], [0.8888888888888888, \"#fdca26\"], [1.0, \"#f0f921\"]], \"type\": \"histogram2d\"}], \"histogram2dcontour\": [{\"colorbar\": {\"outlinewidth\": 0, \"ticks\": \"\"}, \"colorscale\": [[0.0, \"#0d0887\"], [0.1111111111111111, \"#46039f\"], [0.2222222222222222, \"#7201a8\"], [0.3333333333333333, \"#9c179e\"], [0.4444444444444444, \"#bd3786\"], [0.5555555555555556, \"#d8576b\"], [0.6666666666666666, \"#ed7953\"], [0.7777777777777778, \"#fb9f3a\"], [0.8888888888888888, \"#fdca26\"], [1.0, \"#f0f921\"]], \"type\": \"histogram2dcontour\"}], \"mesh3d\": [{\"colorbar\": {\"outlinewidth\": 0, \"ticks\": \"\"}, \"type\": \"mesh3d\"}], \"parcoords\": [{\"line\": {\"colorbar\": {\"outlinewidth\": 0, \"ticks\": \"\"}}, \"type\": \"parcoords\"}], \"pie\": [{\"automargin\": true, \"type\": \"pie\"}], \"scatter\": [{\"marker\": {\"colorbar\": {\"outlinewidth\": 0, \"ticks\": \"\"}}, \"type\": \"scatter\"}], \"scatter3d\": [{\"line\": {\"colorbar\": {\"outlinewidth\": 0, \"ticks\": \"\"}}, \"marker\": {\"colorbar\": {\"outlinewidth\": 0, \"ticks\": \"\"}}, \"type\": \"scatter3d\"}], \"scattercarpet\": [{\"marker\": {\"colorbar\": {\"outlinewidth\": 0, \"ticks\": \"\"}}, \"type\": \"scattercarpet\"}], \"scattergeo\": [{\"marker\": {\"colorbar\": {\"outlinewidth\": 0, \"ticks\": \"\"}}, \"type\": \"scattergeo\"}], \"scattergl\": [{\"marker\": {\"colorbar\": {\"outlinewidth\": 0, \"ticks\": \"\"}}, \"type\": \"scattergl\"}], \"scattermapbox\": [{\"marker\": {\"colorbar\": {\"outlinewidth\": 0, \"ticks\": \"\"}}, \"type\": \"scattermapbox\"}], \"scatterpolar\": [{\"marker\": {\"colorbar\": {\"outlinewidth\": 0, \"ticks\": \"\"}}, \"type\": \"scatterpolar\"}], \"scatterpolargl\": [{\"marker\": {\"colorbar\": {\"outlinewidth\": 0, \"ticks\": \"\"}}, \"type\": \"scatterpolargl\"}], \"scatterternary\": [{\"marker\": {\"colorbar\": {\"outlinewidth\": 0, \"ticks\": \"\"}}, \"type\": \"scatterternary\"}], \"surface\": [{\"colorbar\": {\"outlinewidth\": 0, \"ticks\": \"\"}, \"colorscale\": [[0.0, \"#0d0887\"], [0.1111111111111111, \"#46039f\"], [0.2222222222222222, \"#7201a8\"], [0.3333333333333333, \"#9c179e\"], [0.4444444444444444, \"#bd3786\"], [0.5555555555555556, \"#d8576b\"], [0.6666666666666666, \"#ed7953\"], [0.7777777777777778, \"#fb9f3a\"], [0.8888888888888888, \"#fdca26\"], [1.0, \"#f0f921\"]], \"type\": \"surface\"}], \"table\": [{\"cells\": {\"fill\": {\"color\": \"#EBF0F8\"}, \"line\": {\"color\": \"white\"}}, \"header\": {\"fill\": {\"color\": \"#C8D4E3\"}, \"line\": {\"color\": \"white\"}}, \"type\": \"table\"}]}, \"layout\": {\"annotationdefaults\": {\"arrowcolor\": \"#2a3f5f\", \"arrowhead\": 0, \"arrowwidth\": 1}, \"coloraxis\": {\"colorbar\": {\"outlinewidth\": 0, \"ticks\": \"\"}}, \"colorscale\": {\"diverging\": [[0, \"#8e0152\"], [0.1, \"#c51b7d\"], [0.2, \"#de77ae\"], [0.3, \"#f1b6da\"], [0.4, \"#fde0ef\"], [0.5, \"#f7f7f7\"], [0.6, \"#e6f5d0\"], [0.7, \"#b8e186\"], [0.8, \"#7fbc41\"], [0.9, \"#4d9221\"], [1, \"#276419\"]], \"sequential\": [[0.0, \"#0d0887\"], [0.1111111111111111, \"#46039f\"], [0.2222222222222222, \"#7201a8\"], [0.3333333333333333, \"#9c179e\"], [0.4444444444444444, \"#bd3786\"], [0.5555555555555556, \"#d8576b\"], [0.6666666666666666, \"#ed7953\"], [0.7777777777777778, \"#fb9f3a\"], [0.8888888888888888, \"#fdca26\"], [1.0, \"#f0f921\"]], \"sequentialminus\": [[0.0, \"#0d0887\"], [0.1111111111111111, \"#46039f\"], [0.2222222222222222, \"#7201a8\"], [0.3333333333333333, \"#9c179e\"], [0.4444444444444444, \"#bd3786\"], [0.5555555555555556, \"#d8576b\"], [0.6666666666666666, \"#ed7953\"], [0.7777777777777778, \"#fb9f3a\"], [0.8888888888888888, \"#fdca26\"], [1.0, \"#f0f921\"]]}, \"colorway\": [\"#636efa\", \"#EF553B\", \"#00cc96\", \"#ab63fa\", \"#FFA15A\", \"#19d3f3\", \"#FF6692\", \"#B6E880\", \"#FF97FF\", \"#FECB52\"], \"font\": {\"color\": \"#2a3f5f\"}, \"geo\": {\"bgcolor\": \"white\", \"lakecolor\": \"white\", \"landcolor\": \"#E5ECF6\", \"showlakes\": true, \"showland\": true, \"subunitcolor\": \"white\"}, \"hoverlabel\": {\"align\": \"left\"}, \"hovermode\": \"closest\", \"mapbox\": {\"style\": \"light\"}, \"paper_bgcolor\": \"white\", \"plot_bgcolor\": \"#E5ECF6\", \"polar\": {\"angularaxis\": {\"gridcolor\": \"white\", \"linecolor\": \"white\", \"ticks\": \"\"}, \"bgcolor\": \"#E5ECF6\", \"radialaxis\": {\"gridcolor\": \"white\", \"linecolor\": \"white\", \"ticks\": \"\"}}, \"scene\": {\"xaxis\": {\"backgroundcolor\": \"#E5ECF6\", \"gridcolor\": \"white\", \"gridwidth\": 2, \"linecolor\": \"white\", \"showbackground\": true, \"ticks\": \"\", \"zerolinecolor\": \"white\"}, \"yaxis\": {\"backgroundcolor\": \"#E5ECF6\", \"gridcolor\": \"white\", \"gridwidth\": 2, \"linecolor\": \"white\", \"showbackground\": true, \"ticks\": \"\", \"zerolinecolor\": \"white\"}, \"zaxis\": {\"backgroundcolor\": \"#E5ECF6\", \"gridcolor\": \"white\", \"gridwidth\": 2, \"linecolor\": \"white\", \"showbackground\": true, \"ticks\": \"\", \"zerolinecolor\": \"white\"}}, \"shapedefaults\": {\"line\": {\"color\": \"#2a3f5f\"}}, \"ternary\": {\"aaxis\": {\"gridcolor\": \"white\", \"linecolor\": \"white\", \"ticks\": \"\"}, \"baxis\": {\"gridcolor\": \"white\", \"linecolor\": \"white\", \"ticks\": \"\"}, \"bgcolor\": \"#E5ECF6\", \"caxis\": {\"gridcolor\": \"white\", \"linecolor\": \"white\", \"ticks\": \"\"}}, \"title\": {\"x\": 0.05}, \"xaxis\": {\"automargin\": true, \"gridcolor\": \"white\", \"linecolor\": \"white\", \"ticks\": \"\", \"title\": {\"standoff\": 15}, \"zerolinecolor\": \"white\", \"zerolinewidth\": 2}, \"yaxis\": {\"automargin\": true, \"gridcolor\": \"white\", \"linecolor\": \"white\", \"ticks\": \"\", \"title\": {\"standoff\": 15}, \"zerolinecolor\": \"white\", \"zerolinewidth\": 2}}}},\n",
       "                        {\"responsive\": true}\n",
       "                    ).then(function(){\n",
       "                            \n",
       "var gd = document.getElementById('c2a135a6-08ac-401f-89ae-8cee26e31a74');\n",
       "var x = new MutationObserver(function (mutations, observer) {{\n",
       "        var display = window.getComputedStyle(gd).display;\n",
       "        if (!display || display === 'none') {{\n",
       "            console.log([gd, 'removed!']);\n",
       "            Plotly.purge(gd);\n",
       "            observer.disconnect();\n",
       "        }}\n",
       "}});\n",
       "\n",
       "// Listen for the removal of the full notebook cells\n",
       "var notebookContainer = gd.closest('#notebook-container');\n",
       "if (notebookContainer) {{\n",
       "    x.observe(notebookContainer, {childList: true});\n",
       "}}\n",
       "\n",
       "// Listen for the clearing of the current output cell\n",
       "var outputEl = gd.closest('.output');\n",
       "if (outputEl) {{\n",
       "    x.observe(outputEl, {childList: true});\n",
       "}}\n",
       "\n",
       "                        })\n",
       "                };\n",
       "                });\n",
       "            </script>\n",
       "        </div>"
      ]
     },
     "metadata": {},
     "output_type": "display_data"
    }
   ],
   "source": [
    "import plotly.graph_objects as go\n",
    "\n",
    "fig = go.Figure()\n",
    "fig.add_trace(go.Bar(\n",
    "    name='Control',\n",
    "    y=X['preds'][:50],\n",
    "    error_y=dict(\n",
    "            type='data',\n",
    "            symmetric=False,\n",
    "            array=X['upper'][:50],\n",
    "            arrayminus=X['lower'][:50])))\n",
    "\n",
    "fig.update_layout(shapes=[\n",
    "    dict(type= 'line', yref='y', y0= 0.5, y1= 0.5, xref= 'x', x0= -1, x1= 50)])\n",
    "fig.show()"
   ]
  },
  {
   "cell_type": "code",
   "execution_count": 21,
   "metadata": {
    "execution": {
     "iopub.execute_input": "2020-08-11T16:55:53.769083Z",
     "iopub.status.busy": "2020-08-11T16:55:53.758264Z",
     "iopub.status.idle": "2020-08-11T16:55:53.774298Z",
     "shell.execute_reply": "2020-08-11T16:55:53.775004Z"
    },
    "papermill": {
     "duration": 0.044956,
     "end_time": "2020-08-11T16:55:53.775203",
     "exception": false,
     "start_time": "2020-08-11T16:55:53.730247",
     "status": "completed"
    },
    "tags": []
   },
   "outputs": [
    {
     "data": {
      "text/html": [
       "<div>\n",
       "        \n",
       "        \n",
       "            <div id=\"74b6eb46-5fa0-4e3f-ad58-7f8ded1a0e71\" class=\"plotly-graph-div\" style=\"height:525px; width:100%;\"></div>\n",
       "            <script type=\"text/javascript\">\n",
       "                require([\"plotly\"], function(Plotly) {\n",
       "                    window.PLOTLYENV=window.PLOTLYENV || {};\n",
       "                    \n",
       "                if (document.getElementById(\"74b6eb46-5fa0-4e3f-ad58-7f8ded1a0e71\")) {\n",
       "                    Plotly.newPlot(\n",
       "                        '74b6eb46-5fa0-4e3f-ad58-7f8ded1a0e71',\n",
       "                        [{\"error_y\": {\"array\": [0.1000833333333333, 0.08499999999999996, 0.11254166666666665, 0.11762499999999987, 0.09499999999999997, 0.1275416666666666, 0.09174999999999989, 0.10833333333333328, 0.09087499999999993, 0.09833333333333333, 0.05754166666666662, 0.10754166666666665, 0.047541666666666704, 0.09166666666666667, 0.11095833333333321, 0.08000000000000002, 0.10420833333333329, 0.06333333333333335, 0.11516666666666647, 0.10333333333333333, 0.11166666666666664, 0.08833333333333332, 0.12920833333333326, 0.10666666666666669, 0.12429166666666647, 0.08587499999999992, 0.1283333333333333, 0.09420833333333334, 0.09254166666666663, 0.10166666666666668, 0.10920833333333341, 0.11595833333333316, 0.1166666666666667, 0.10666666666666669, 0.10666666666666658, 0.12666666666666665, 0.08000000000000002, 0.10333333333333333, 0.10333333333333328, 0.10000000000000009, 0.14095833333333319, 0.07587499999999991, 0.06166666666666666, 0.1025416666666667, 0.09254166666666663, 0.10833333333333328, 0.05499999999999994, 0.06754166666666661, 0.08333333333333337, 0.10166666666666663], \"arrayminus\": [0.12508333333333332, 0.09000000000000008, 0.09587499999999999, 0.10754166666666665, 0.09666666666666668, 0.105875, 0.10000000000000009, 0.13754166666666667, 0.10087500000000005, 0.105875, 0.03833333333333333, 0.12587499999999996, 0.0525416666666666, 0.09999999999999998, 0.11429166666666668, 0.07833333333333334, 0.07499999999999998, 0.06999999999999995, 0.105875, 0.10500000000000001, 0.10499999999999998, 0.08254166666666665, 0.09587499999999999, 0.1266666666666667, 0.1050833333333333, 0.10166666666666668, 0.11333333333333334, 0.08929166666666663, 0.09499999999999997, 0.10254166666666664, 0.115875, 0.15087499999999998, 0.12929166666666664, 0.09754166666666664, 0.1183333333333334, 0.10254166666666664, 0.07420833333333332, 0.12587500000000001, 0.10095833333333332, 0.11674999999999991, 0.1092083333333333, 0.08674999999999988, 0.05499999999999999, 0.09341666666666662, 0.06587499999999999, 0.1166666666666667, 0.05754166666666671, 0.06999999999999995, 0.07499999999999998, 0.11920833333333336], \"symmetric\": false, \"type\": \"data\"}, \"name\": \"Control\", \"type\": \"bar\", \"y\": [0.475, 0.79, 0.3, 0.37, 0.73, 0.435, 0.675, 0.55, 0.805, 0.41, 0.055, 0.73, 0.94, 0.7, 0.46, 0.195, 0.175, 0.87, 0.31, 0.33, 0.43, 0.195, 0.375, 0.535, 0.53, 0.81, 0.505, 0.235, 0.77, 0.765, 0.445, 0.505, 0.625, 0.36, 0.56, 0.415, 0.145, 0.455, 0.53, 0.7, 0.58, 0.845, 0.105, 0.285, 0.145, 0.55, 0.92, 0.87, 0.175, 0.465]}],\n",
       "                        {\"shapes\": [{\"type\": \"line\", \"x0\": -1, \"x1\": 50, \"xref\": \"x\", \"y0\": 0.5, \"y1\": 0.5, \"yref\": \"y\"}], \"template\": {\"data\": {\"bar\": [{\"error_x\": {\"color\": \"#2a3f5f\"}, \"error_y\": {\"color\": \"#2a3f5f\"}, \"marker\": {\"line\": {\"color\": \"#E5ECF6\", \"width\": 0.5}}, \"type\": \"bar\"}], \"barpolar\": [{\"marker\": {\"line\": {\"color\": \"#E5ECF6\", \"width\": 0.5}}, \"type\": \"barpolar\"}], \"carpet\": [{\"aaxis\": {\"endlinecolor\": \"#2a3f5f\", \"gridcolor\": \"white\", \"linecolor\": \"white\", \"minorgridcolor\": \"white\", \"startlinecolor\": \"#2a3f5f\"}, \"baxis\": {\"endlinecolor\": \"#2a3f5f\", \"gridcolor\": \"white\", \"linecolor\": \"white\", \"minorgridcolor\": \"white\", \"startlinecolor\": \"#2a3f5f\"}, \"type\": \"carpet\"}], \"choropleth\": [{\"colorbar\": {\"outlinewidth\": 0, \"ticks\": \"\"}, \"type\": \"choropleth\"}], \"contour\": [{\"colorbar\": {\"outlinewidth\": 0, \"ticks\": \"\"}, \"colorscale\": [[0.0, \"#0d0887\"], [0.1111111111111111, \"#46039f\"], [0.2222222222222222, \"#7201a8\"], [0.3333333333333333, \"#9c179e\"], [0.4444444444444444, \"#bd3786\"], [0.5555555555555556, \"#d8576b\"], [0.6666666666666666, \"#ed7953\"], [0.7777777777777778, \"#fb9f3a\"], [0.8888888888888888, \"#fdca26\"], [1.0, \"#f0f921\"]], \"type\": \"contour\"}], \"contourcarpet\": [{\"colorbar\": {\"outlinewidth\": 0, \"ticks\": \"\"}, \"type\": \"contourcarpet\"}], \"heatmap\": [{\"colorbar\": {\"outlinewidth\": 0, \"ticks\": \"\"}, \"colorscale\": [[0.0, \"#0d0887\"], [0.1111111111111111, \"#46039f\"], [0.2222222222222222, \"#7201a8\"], [0.3333333333333333, \"#9c179e\"], [0.4444444444444444, \"#bd3786\"], [0.5555555555555556, \"#d8576b\"], [0.6666666666666666, \"#ed7953\"], [0.7777777777777778, \"#fb9f3a\"], [0.8888888888888888, \"#fdca26\"], [1.0, \"#f0f921\"]], \"type\": \"heatmap\"}], \"heatmapgl\": [{\"colorbar\": {\"outlinewidth\": 0, \"ticks\": \"\"}, \"colorscale\": [[0.0, \"#0d0887\"], [0.1111111111111111, \"#46039f\"], [0.2222222222222222, \"#7201a8\"], [0.3333333333333333, \"#9c179e\"], [0.4444444444444444, \"#bd3786\"], [0.5555555555555556, \"#d8576b\"], [0.6666666666666666, \"#ed7953\"], [0.7777777777777778, \"#fb9f3a\"], [0.8888888888888888, \"#fdca26\"], [1.0, \"#f0f921\"]], \"type\": \"heatmapgl\"}], \"histogram\": [{\"marker\": {\"colorbar\": {\"outlinewidth\": 0, \"ticks\": \"\"}}, \"type\": \"histogram\"}], \"histogram2d\": [{\"colorbar\": {\"outlinewidth\": 0, \"ticks\": \"\"}, \"colorscale\": [[0.0, \"#0d0887\"], [0.1111111111111111, \"#46039f\"], [0.2222222222222222, \"#7201a8\"], [0.3333333333333333, \"#9c179e\"], [0.4444444444444444, \"#bd3786\"], [0.5555555555555556, \"#d8576b\"], [0.6666666666666666, \"#ed7953\"], [0.7777777777777778, \"#fb9f3a\"], [0.8888888888888888, \"#fdca26\"], [1.0, \"#f0f921\"]], \"type\": \"histogram2d\"}], \"histogram2dcontour\": [{\"colorbar\": {\"outlinewidth\": 0, \"ticks\": \"\"}, \"colorscale\": [[0.0, \"#0d0887\"], [0.1111111111111111, \"#46039f\"], [0.2222222222222222, \"#7201a8\"], [0.3333333333333333, \"#9c179e\"], [0.4444444444444444, \"#bd3786\"], [0.5555555555555556, \"#d8576b\"], [0.6666666666666666, \"#ed7953\"], [0.7777777777777778, \"#fb9f3a\"], [0.8888888888888888, \"#fdca26\"], [1.0, \"#f0f921\"]], \"type\": \"histogram2dcontour\"}], \"mesh3d\": [{\"colorbar\": {\"outlinewidth\": 0, \"ticks\": \"\"}, \"type\": \"mesh3d\"}], \"parcoords\": [{\"line\": {\"colorbar\": {\"outlinewidth\": 0, \"ticks\": \"\"}}, \"type\": \"parcoords\"}], \"pie\": [{\"automargin\": true, \"type\": \"pie\"}], \"scatter\": [{\"marker\": {\"colorbar\": {\"outlinewidth\": 0, \"ticks\": \"\"}}, \"type\": \"scatter\"}], \"scatter3d\": [{\"line\": {\"colorbar\": {\"outlinewidth\": 0, \"ticks\": \"\"}}, \"marker\": {\"colorbar\": {\"outlinewidth\": 0, \"ticks\": \"\"}}, \"type\": \"scatter3d\"}], \"scattercarpet\": [{\"marker\": {\"colorbar\": {\"outlinewidth\": 0, \"ticks\": \"\"}}, \"type\": \"scattercarpet\"}], \"scattergeo\": [{\"marker\": {\"colorbar\": {\"outlinewidth\": 0, \"ticks\": \"\"}}, \"type\": \"scattergeo\"}], \"scattergl\": [{\"marker\": {\"colorbar\": {\"outlinewidth\": 0, \"ticks\": \"\"}}, \"type\": \"scattergl\"}], \"scattermapbox\": [{\"marker\": {\"colorbar\": {\"outlinewidth\": 0, \"ticks\": \"\"}}, \"type\": \"scattermapbox\"}], \"scatterpolar\": [{\"marker\": {\"colorbar\": {\"outlinewidth\": 0, \"ticks\": \"\"}}, \"type\": \"scatterpolar\"}], \"scatterpolargl\": [{\"marker\": {\"colorbar\": {\"outlinewidth\": 0, \"ticks\": \"\"}}, \"type\": \"scatterpolargl\"}], \"scatterternary\": [{\"marker\": {\"colorbar\": {\"outlinewidth\": 0, \"ticks\": \"\"}}, \"type\": \"scatterternary\"}], \"surface\": [{\"colorbar\": {\"outlinewidth\": 0, \"ticks\": \"\"}, \"colorscale\": [[0.0, \"#0d0887\"], [0.1111111111111111, \"#46039f\"], [0.2222222222222222, \"#7201a8\"], [0.3333333333333333, \"#9c179e\"], [0.4444444444444444, \"#bd3786\"], [0.5555555555555556, \"#d8576b\"], [0.6666666666666666, \"#ed7953\"], [0.7777777777777778, \"#fb9f3a\"], [0.8888888888888888, \"#fdca26\"], [1.0, \"#f0f921\"]], \"type\": \"surface\"}], \"table\": [{\"cells\": {\"fill\": {\"color\": \"#EBF0F8\"}, \"line\": {\"color\": \"white\"}}, \"header\": {\"fill\": {\"color\": \"#C8D4E3\"}, \"line\": {\"color\": \"white\"}}, \"type\": \"table\"}]}, \"layout\": {\"annotationdefaults\": {\"arrowcolor\": \"#2a3f5f\", \"arrowhead\": 0, \"arrowwidth\": 1}, \"coloraxis\": {\"colorbar\": {\"outlinewidth\": 0, \"ticks\": \"\"}}, \"colorscale\": {\"diverging\": [[0, \"#8e0152\"], [0.1, \"#c51b7d\"], [0.2, \"#de77ae\"], [0.3, \"#f1b6da\"], [0.4, \"#fde0ef\"], [0.5, \"#f7f7f7\"], [0.6, \"#e6f5d0\"], [0.7, \"#b8e186\"], [0.8, \"#7fbc41\"], [0.9, \"#4d9221\"], [1, \"#276419\"]], \"sequential\": [[0.0, \"#0d0887\"], [0.1111111111111111, \"#46039f\"], [0.2222222222222222, \"#7201a8\"], [0.3333333333333333, \"#9c179e\"], [0.4444444444444444, \"#bd3786\"], [0.5555555555555556, \"#d8576b\"], [0.6666666666666666, \"#ed7953\"], [0.7777777777777778, \"#fb9f3a\"], [0.8888888888888888, \"#fdca26\"], [1.0, \"#f0f921\"]], \"sequentialminus\": [[0.0, \"#0d0887\"], [0.1111111111111111, \"#46039f\"], [0.2222222222222222, \"#7201a8\"], [0.3333333333333333, \"#9c179e\"], [0.4444444444444444, \"#bd3786\"], [0.5555555555555556, \"#d8576b\"], [0.6666666666666666, \"#ed7953\"], [0.7777777777777778, \"#fb9f3a\"], [0.8888888888888888, \"#fdca26\"], [1.0, \"#f0f921\"]]}, \"colorway\": [\"#636efa\", \"#EF553B\", \"#00cc96\", \"#ab63fa\", \"#FFA15A\", \"#19d3f3\", \"#FF6692\", \"#B6E880\", \"#FF97FF\", \"#FECB52\"], \"font\": {\"color\": \"#2a3f5f\"}, \"geo\": {\"bgcolor\": \"white\", \"lakecolor\": \"white\", \"landcolor\": \"#E5ECF6\", \"showlakes\": true, \"showland\": true, \"subunitcolor\": \"white\"}, \"hoverlabel\": {\"align\": \"left\"}, \"hovermode\": \"closest\", \"mapbox\": {\"style\": \"light\"}, \"paper_bgcolor\": \"white\", \"plot_bgcolor\": \"#E5ECF6\", \"polar\": {\"angularaxis\": {\"gridcolor\": \"white\", \"linecolor\": \"white\", \"ticks\": \"\"}, \"bgcolor\": \"#E5ECF6\", \"radialaxis\": {\"gridcolor\": \"white\", \"linecolor\": \"white\", \"ticks\": \"\"}}, \"scene\": {\"xaxis\": {\"backgroundcolor\": \"#E5ECF6\", \"gridcolor\": \"white\", \"gridwidth\": 2, \"linecolor\": \"white\", \"showbackground\": true, \"ticks\": \"\", \"zerolinecolor\": \"white\"}, \"yaxis\": {\"backgroundcolor\": \"#E5ECF6\", \"gridcolor\": \"white\", \"gridwidth\": 2, \"linecolor\": \"white\", \"showbackground\": true, \"ticks\": \"\", \"zerolinecolor\": \"white\"}, \"zaxis\": {\"backgroundcolor\": \"#E5ECF6\", \"gridcolor\": \"white\", \"gridwidth\": 2, \"linecolor\": \"white\", \"showbackground\": true, \"ticks\": \"\", \"zerolinecolor\": \"white\"}}, \"shapedefaults\": {\"line\": {\"color\": \"#2a3f5f\"}}, \"ternary\": {\"aaxis\": {\"gridcolor\": \"white\", \"linecolor\": \"white\", \"ticks\": \"\"}, \"baxis\": {\"gridcolor\": \"white\", \"linecolor\": \"white\", \"ticks\": \"\"}, \"bgcolor\": \"#E5ECF6\", \"caxis\": {\"gridcolor\": \"white\", \"linecolor\": \"white\", \"ticks\": \"\"}}, \"title\": {\"x\": 0.05}, \"xaxis\": {\"automargin\": true, \"gridcolor\": \"white\", \"linecolor\": \"white\", \"ticks\": \"\", \"title\": {\"standoff\": 15}, \"zerolinecolor\": \"white\", \"zerolinewidth\": 2}, \"yaxis\": {\"automargin\": true, \"gridcolor\": \"white\", \"linecolor\": \"white\", \"ticks\": \"\", \"title\": {\"standoff\": 15}, \"zerolinecolor\": \"white\", \"zerolinewidth\": 2}}}},\n",
       "                        {\"responsive\": true}\n",
       "                    ).then(function(){\n",
       "                            \n",
       "var gd = document.getElementById('74b6eb46-5fa0-4e3f-ad58-7f8ded1a0e71');\n",
       "var x = new MutationObserver(function (mutations, observer) {{\n",
       "        var display = window.getComputedStyle(gd).display;\n",
       "        if (!display || display === 'none') {{\n",
       "            console.log([gd, 'removed!']);\n",
       "            Plotly.purge(gd);\n",
       "            observer.disconnect();\n",
       "        }}\n",
       "}});\n",
       "\n",
       "// Listen for the removal of the full notebook cells\n",
       "var notebookContainer = gd.closest('#notebook-container');\n",
       "if (notebookContainer) {{\n",
       "    x.observe(notebookContainer, {childList: true});\n",
       "}}\n",
       "\n",
       "// Listen for the clearing of the current output cell\n",
       "var outputEl = gd.closest('.output');\n",
       "if (outputEl) {{\n",
       "    x.observe(outputEl, {childList: true});\n",
       "}}\n",
       "\n",
       "                        })\n",
       "                };\n",
       "                });\n",
       "            </script>\n",
       "        </div>"
      ]
     },
     "metadata": {},
     "output_type": "display_data"
    }
   ],
   "source": [
    "import plotly.graph_objects as go\n",
    "\n",
    "fig = go.Figure()\n",
    "fig.add_trace(go.Bar(\n",
    "    name='Control',\n",
    "    y=rand_X['preds'][:50],\n",
    "    error_y=dict(\n",
    "            type='data',\n",
    "            symmetric=False,\n",
    "            array=rand_X['upper'][:50],\n",
    "            arrayminus=rand_X['lower'][:50])))\n",
    "\n",
    "fig.update_layout(shapes=[\n",
    "    dict(type= 'line', yref='y', y0= 0.5, y1= 0.5, xref= 'x', x0= -1, x1= 50)])\n",
    "fig.show()"
   ]
  },
  {
   "cell_type": "markdown",
   "execution_count": null,
   "metadata": {
    "papermill": {
     "duration": 0.014884,
     "end_time": "2020-08-11T16:55:53.805289",
     "exception": false,
     "start_time": "2020-08-11T16:55:53.790405",
     "status": "completed"
    },
    "tags": []
   },
   "source": [
    "## Uncertainty in our Models\n",
    "### Just as a reminder, this was the F1 score for the hole validation dataset"
   ]
  },
  {
   "cell_type": "code",
   "execution_count": 22,
   "metadata": {
    "execution": {
     "iopub.execute_input": "2020-08-11T16:55:53.847824Z",
     "iopub.status.busy": "2020-08-11T16:55:53.846312Z",
     "iopub.status.idle": "2020-08-11T16:55:53.955694Z",
     "shell.execute_reply": "2020-08-11T16:55:53.954998Z"
    },
    "papermill": {
     "duration": 0.13573,
     "end_time": "2020-08-11T16:55:53.955833",
     "exception": false,
     "start_time": "2020-08-11T16:55:53.820103",
     "status": "completed"
    },
    "tags": []
   },
   "outputs": [
    {
     "data": {
      "text/plain": [
       "0.9523809523809524"
      ]
     },
     "execution_count": 22,
     "metadata": {},
     "output_type": "execute_result"
    }
   ],
   "source": [
    "f1_score(y_valid, m.predict(X_valid), pos_label='M', average='binary')"
   ]
  },
  {
   "cell_type": "markdown",
   "execution_count": null,
   "metadata": {
    "papermill": {
     "duration": 0.01439,
     "end_time": "2020-08-11T16:55:53.984713",
     "exception": false,
     "start_time": "2020-08-11T16:55:53.970323",
     "status": "completed"
    },
    "tags": []
   },
   "source": [
    "If we now keep only those predictions whose average minus their lower percentile is greater than 0.7, and those whose average plus their upper percentile is smaller than 0.3 we can see the F1 score changes, going now to 98%"
   ]
  },
  {
   "cell_type": "code",
   "execution_count": 23,
   "metadata": {
    "execution": {
     "iopub.execute_input": "2020-08-11T16:55:54.024962Z",
     "iopub.status.busy": "2020-08-11T16:55:54.024158Z",
     "iopub.status.idle": "2020-08-11T16:55:54.056726Z",
     "shell.execute_reply": "2020-08-11T16:55:54.055951Z"
    },
    "papermill": {
     "duration": 0.057801,
     "end_time": "2020-08-11T16:55:54.056850",
     "exception": false,
     "start_time": "2020-08-11T16:55:53.999049",
     "status": "completed"
    },
    "tags": []
   },
   "outputs": [
    {
     "data": {
      "text/plain": [
       "(1.0, 102, 114, 0.8947368421052632)"
      ]
     },
     "execution_count": 23,
     "metadata": {},
     "output_type": "execute_result"
    }
   ],
   "source": [
    "aux = X.copy()\n",
    "aux = aux.loc[(aux['preds'] - aux['lower'] >= 0.7) | (aux['preds'] + aux['upper'] <= 0.3), :]\n",
    "a = np.array(aux.preds > 0.5)\n",
    "\n",
    "aux['prediction'] = 0\n",
    "\n",
    "aux.loc[aux.preds > 0.5, 'prediction'] = 1\n",
    "\n",
    "\n",
    "f1_score(aux.actuals, aux.prediction, pos_label=1, average='binary'), len(aux), len(X), len(aux)/len(X)"
   ]
  },
  {
   "cell_type": "markdown",
   "execution_count": null,
   "metadata": {
    "papermill": {
     "duration": 0.014775,
     "end_time": "2020-08-11T16:55:54.086245",
     "exception": false,
     "start_time": "2020-08-11T16:55:54.071470",
     "status": "completed"
    },
    "tags": []
   },
   "source": [
    "It's important to note that the 98% corresponds to 92% of the validation dataset, but the important part is that, **that 92% is not random**.\n",
    "\n",
    "If we do the same but we adjust the lower and greater limits to 0.25 and 0.75 respectively we now get a perfect F1 score in our validation set"
   ]
  },
  {
   "cell_type": "code",
   "execution_count": 24,
   "metadata": {
    "execution": {
     "iopub.execute_input": "2020-08-11T16:55:54.132705Z",
     "iopub.status.busy": "2020-08-11T16:55:54.131559Z",
     "iopub.status.idle": "2020-08-11T16:55:54.140434Z",
     "shell.execute_reply": "2020-08-11T16:55:54.139795Z"
    },
    "papermill": {
     "duration": 0.039792,
     "end_time": "2020-08-11T16:55:54.140568",
     "exception": false,
     "start_time": "2020-08-11T16:55:54.100776",
     "status": "completed"
    },
    "tags": []
   },
   "outputs": [
    {
     "data": {
      "text/plain": [
       "(1.0, 100, 114, 0.8771929824561403)"
      ]
     },
     "execution_count": 24,
     "metadata": {},
     "output_type": "execute_result"
    }
   ],
   "source": [
    "aux = X.copy()\n",
    "aux = aux.loc[(aux['preds'] - aux['lower'] >= 0.75) | (aux['preds'] + aux['upper'] <= 0.25), :]\n",
    "a = np.array(aux.preds > 0.5)\n",
    "\n",
    "aux['prediction'] = 0\n",
    "\n",
    "aux.loc[aux.preds > 0.5, 'prediction'] = 1\n",
    "\n",
    "\n",
    "f1_score(aux.actuals, aux.prediction, pos_label=1, average='binary'), len(aux), len(X), len(aux)/len(X)"
   ]
  },
  {
   "cell_type": "markdown",
   "execution_count": null,
   "metadata": {
    "papermill": {
     "duration": 0.014657,
     "end_time": "2020-08-11T16:55:54.170050",
     "exception": false,
     "start_time": "2020-08-11T16:55:54.155393",
     "status": "completed"
    },
    "tags": []
   },
   "source": [
    "Instead we now see that this perfect F1 score represents only 87% of the validation set, but again, this 87% is not random. We know exactly which inputs represent this 87% since are the ones that our model trees classify with certain confidence. \n",
    "So you may ask, what about the remaining 13% of our data? Well, simply put, our model is not entirely sure.\n",
    "\n",
    "The questions we should now be asking ourselves are: Is this validation set big enough? Is this validation set representative of what the model is going to see in production?\n",
    "\n",
    "And finally, is this enough to determine if our model is making a mistake? Certainly not, but I think this analysis is a step in the right direction.\n",
    "\n",
    "What do you think?\n",
    "\n",
    "Any insights are welcome, you can reach me at tomi.ambro94@gmail.com"
   ]
  }
 ],
 "metadata": {
  "kernelspec": {
   "display_name": "Python 3",
   "language": "python",
   "name": "python3"
  },
  "language_info": {
   "codemirror_mode": {
    "name": "ipython",
    "version": 3
   },
   "file_extension": ".py",
   "mimetype": "text/x-python",
   "name": "python",
   "nbconvert_exporter": "python",
   "pygments_lexer": "ipython3",
   "version": "3.7.6"
  },
  "papermill": {
   "duration": 20.823168,
   "end_time": "2020-08-11T16:55:54.293241",
   "environment_variables": {},
   "exception": null,
   "input_path": "__notebook__.ipynb",
   "output_path": "__notebook__.ipynb",
   "parameters": {},
   "start_time": "2020-08-11T16:55:33.470073",
   "version": "2.1.0"
  }
 },
 "nbformat": 4,
 "nbformat_minor": 4
}
